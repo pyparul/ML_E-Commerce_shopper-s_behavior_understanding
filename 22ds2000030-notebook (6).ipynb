{
 "cells": [
  {
   "cell_type": "markdown",
   "id": "a3ed1dcd",
   "metadata": {
    "papermill": {
     "duration": 0.024885,
     "end_time": "2023-03-31T09:25:08.885810",
     "exception": false,
     "start_time": "2023-03-31T09:25:08.860925",
     "status": "completed"
    },
    "tags": []
   },
   "source": [
    "# Data loading\n",
    "### Data Info \n",
    "Columns: The first six columns represent the different pages in the e-commerce website visited by a user from other sites.\n",
    "\n",
    "HomePage: Number of times visited this page\n",
    "\n",
    "HomePage_Duration: Total number of duration spent on this page.\n",
    "\n",
    "LandingPage: Number of times visited this page\n",
    "\n",
    "LandingPage_Duration: Total number of duration spent on this page.\n",
    "\n",
    "ProductDesriptionPage Number of times visited this page\n",
    "\n",
    "ProductDescriptionPage_Duration: Total number of duration spent on this page.\n",
    "\n",
    "GoogleMetric-Bounce Rate: Whenever a user comes to any one web-page of the website and he/she does not go to any other page and exits from the website from the same page, then this activity done by the user is called Bounce. And the percentage of the total number of times the user visiting our website and bounce it, is called Bounce Rate\n",
    "\n",
    "GoogleMetric-Exit Rate: The bounce rate is calculated based on the user exiting a website after visiting one page. But some users exit from the second, third, fourth, or any other page of our website, then those visitors’ data help determine the exit rate. The percentage of the total number of times the user to our website who do not exit from the first page (Landing Page) but exit after exploring other website pages is called the Exit Rate.\n",
    "\n",
    "GoogleMetric-Page Value: Page Value is the average value for a page that a user visited before landing on the goal page or completing an Ecommerce transaction.\n",
    "\n",
    "SeasonalPurchase: It is a weight indicator to track the seasonal purchase. If a user makes a purchase during any seasonal time (Mother’s Day, Diwali, Valentine's Day), we will assign based on internal heuristic.\n",
    "\n",
    "Month_ SeasonalPurchase: Month of the special day considered for seasonal purchase."
   ]
  },
  {
   "cell_type": "markdown",
   "id": "caebc73c",
   "metadata": {
    "papermill": {
     "duration": 0.021273,
     "end_time": "2023-03-31T09:25:08.927877",
     "exception": false,
     "start_time": "2023-03-31T09:25:08.906604",
     "status": "completed"
    },
    "tags": []
   },
   "source": [
    "### Necessary Imports"
   ]
  },
  {
   "cell_type": "code",
   "execution_count": 1,
   "id": "2e1913e9",
   "metadata": {
    "execution": {
     "iopub.execute_input": "2023-03-31T09:25:08.972525Z",
     "iopub.status.busy": "2023-03-31T09:25:08.971771Z",
     "iopub.status.idle": "2023-03-31T09:25:10.614860Z",
     "shell.execute_reply": "2023-03-31T09:25:10.613811Z"
    },
    "papermill": {
     "duration": 1.668473,
     "end_time": "2023-03-31T09:25:10.617452",
     "exception": false,
     "start_time": "2023-03-31T09:25:08.948979",
     "status": "completed"
    },
    "tags": []
   },
   "outputs": [],
   "source": [
    "import pandas as pd\n",
    "import numpy as np\n",
    "import matplotlib.pyplot as plt\n",
    "import seaborn as sns\n",
    "\n",
    "from sklearn.model_selection import StratifiedShuffleSplit, train_test_split, RandomizedSearchCV, GridSearchCV, ShuffleSplit\n",
    "from sklearn.impute import SimpleImputer, KNNImputer\n",
    "from sklearn.preprocessing import OneHotEncoder, StandardScaler, LabelEncoder, MinMaxScaler\n",
    "from sklearn.compose import ColumnTransformer\n",
    "from sklearn.pipeline import Pipeline, FeatureUnion, make_pipeline\n",
    "from sklearn.dummy import DummyClassifier\n",
    "from sklearn.decomposition import PCA\n",
    "from sklearn.feature_selection import RFE, RFECV\n",
    "from sklearn.metrics import f1_score, classification_report, accuracy_score, precision_score, recall_score\n",
    "from sklearn.neighbors import LocalOutlierFactor\n",
    "\n",
    "from sklearn.linear_model import LogisticRegression\n",
    "from sklearn.neighbors import KNeighborsClassifier\n",
    "from sklearn.svm import SVC\n",
    "from sklearn.tree import DecisionTreeClassifier\n",
    "from sklearn.ensemble import BaggingClassifier\n",
    "from sklearn.ensemble import AdaBoostClassifier\n",
    "from sklearn.ensemble import GradientBoostingClassifier\n",
    "from xgboost import XGBClassifier\n",
    "from sklearn.neural_network import MLPClassifier\n",
    "\n",
    "\n",
    "import warnings\n",
    "warnings.filterwarnings(\"ignore\")\n",
    "\n",
    "np.random.seed(0)"
   ]
  },
  {
   "cell_type": "code",
   "execution_count": 2,
   "id": "4ee30db2",
   "metadata": {
    "execution": {
     "iopub.execute_input": "2023-03-31T09:25:10.661623Z",
     "iopub.status.busy": "2023-03-31T09:25:10.660906Z",
     "iopub.status.idle": "2023-03-31T09:25:10.771986Z",
     "shell.execute_reply": "2023-03-31T09:25:10.770766Z"
    },
    "papermill": {
     "duration": 0.135841,
     "end_time": "2023-03-31T09:25:10.774723",
     "exception": false,
     "start_time": "2023-03-31T09:25:10.638882",
     "status": "completed"
    },
    "tags": []
   },
   "outputs": [],
   "source": [
    "# Loading the data\n",
    "data = pd.read_csv('/kaggle/input/e-commerce-shoppers-behaviour-understanding/train_data_v2.csv')"
   ]
  },
  {
   "cell_type": "markdown",
   "id": "84f551a3",
   "metadata": {
    "papermill": {
     "duration": 0.020064,
     "end_time": "2023-03-31T09:25:10.816868",
     "exception": false,
     "start_time": "2023-03-31T09:25:10.796804",
     "status": "completed"
    },
    "tags": []
   },
   "source": [
    "# Data exploration"
   ]
  },
  {
   "cell_type": "code",
   "execution_count": 3,
   "id": "acb0640c",
   "metadata": {
    "execution": {
     "iopub.execute_input": "2023-03-31T09:25:10.860464Z",
     "iopub.status.busy": "2023-03-31T09:25:10.859996Z",
     "iopub.status.idle": "2023-03-31T09:25:10.877884Z",
     "shell.execute_reply": "2023-03-31T09:25:10.876919Z"
    },
    "papermill": {
     "duration": 0.042485,
     "end_time": "2023-03-31T09:25:10.880232",
     "exception": false,
     "start_time": "2023-03-31T09:25:10.837747",
     "status": "completed"
    },
    "tags": []
   },
   "outputs": [
    {
     "data": {
      "text/plain": [
       "13563    Aug\n",
       "5055     Aug\n",
       "13883    Nov\n",
       "6107     Nov\n",
       "1457     Mar\n",
       "Name: Month_SeasonalPurchase, dtype: object"
      ]
     },
     "execution_count": 3,
     "metadata": {},
     "output_type": "execute_result"
    }
   ],
   "source": [
    "data['Month_SeasonalPurchase'].sample(5)"
   ]
  },
  {
   "cell_type": "code",
   "execution_count": 4,
   "id": "a8336743",
   "metadata": {
    "execution": {
     "iopub.execute_input": "2023-03-31T09:25:10.924299Z",
     "iopub.status.busy": "2023-03-31T09:25:10.923647Z",
     "iopub.status.idle": "2023-03-31T09:25:10.951266Z",
     "shell.execute_reply": "2023-03-31T09:25:10.949886Z"
    },
    "papermill": {
     "duration": 0.053277,
     "end_time": "2023-03-31T09:25:10.954567",
     "exception": false,
     "start_time": "2023-03-31T09:25:10.901290",
     "status": "completed"
    },
    "tags": []
   },
   "outputs": [
    {
     "name": "stdout",
     "output_type": "stream",
     "text": [
      "<class 'pandas.core.frame.DataFrame'>\n",
      "RangeIndex: 14731 entries, 0 to 14730\n",
      "Data columns (total 22 columns):\n",
      " #   Column                           Non-Null Count  Dtype  \n",
      "---  ------                           --------------  -----  \n",
      " 0   HomePage                         14578 non-null  float64\n",
      " 1   HomePage_Duration                14581 non-null  float64\n",
      " 2   LandingPage                      14578 non-null  float64\n",
      " 3   LandingPage_Duration             14596 non-null  float64\n",
      " 4   ProductDescriptionPage           14608 non-null  float64\n",
      " 5   ProductDescriptionPage_Duration  14564 non-null  float64\n",
      " 6   GoogleMetric:Bounce Rates        14580 non-null  float64\n",
      " 7   GoogleMetric:Exit Rates          14602 non-null  float64\n",
      " 8   GoogleMetric:Page Values         14599 non-null  float64\n",
      " 9   SeasonalPurchase                 14581 non-null  float64\n",
      " 10  Month_SeasonalPurchase           14587 non-null  object \n",
      " 11  OS                               14597 non-null  float64\n",
      " 12  SearchEngine                     14609 non-null  float64\n",
      " 13  Zone                             14614 non-null  float64\n",
      " 14  Type of Traffic                  14588 non-null  float64\n",
      " 15  CustomerType                     14587 non-null  object \n",
      " 16  Gender                           14586 non-null  object \n",
      " 17  Cookies Setting                  14587 non-null  object \n",
      " 18  Education                        14595 non-null  object \n",
      " 19  Marital Status                   14601 non-null  object \n",
      " 20  WeekendPurchase                  14610 non-null  float64\n",
      " 21  Made_Purchase                    14731 non-null  bool   \n",
      "dtypes: bool(1), float64(15), object(6)\n",
      "memory usage: 2.4+ MB\n"
     ]
    }
   ],
   "source": [
    "data.info()"
   ]
  },
  {
   "cell_type": "code",
   "execution_count": 5,
   "id": "2f0a97c4",
   "metadata": {
    "execution": {
     "iopub.execute_input": "2023-03-31T09:25:10.999874Z",
     "iopub.status.busy": "2023-03-31T09:25:10.998700Z",
     "iopub.status.idle": "2023-03-31T09:25:13.200229Z",
     "shell.execute_reply": "2023-03-31T09:25:13.199129Z"
    },
    "papermill": {
     "duration": 2.226399,
     "end_time": "2023-03-31T09:25:13.202632",
     "exception": false,
     "start_time": "2023-03-31T09:25:10.976233",
     "status": "completed"
    },
    "tags": []
   },
   "outputs": [
    {
     "data": {
      "image/png": "[encoded data removed]",
      "text/plain": [
       "<Figure size 1152x720 with 16 Axes>"
      ]
     },
     "metadata": {
      "needs_background": "light"
     },
     "output_type": "display_data"
    }
   ],
   "source": [
    "data.hist(bins = 20, edgecolor = 'black', figsize = (16,10))\n",
    "plt.show()"
   ]
  },
  {
   "cell_type": "code",
   "execution_count": 6,
   "id": "ae64bc59",
   "metadata": {
    "execution": {
     "iopub.execute_input": "2023-03-31T09:25:13.248729Z",
     "iopub.status.busy": "2023-03-31T09:25:13.248286Z",
     "iopub.status.idle": "2023-03-31T09:25:13.261839Z",
     "shell.execute_reply": "2023-03-31T09:25:13.260828Z"
    },
    "papermill": {
     "duration": 0.038813,
     "end_time": "2023-03-31T09:25:13.264079",
     "exception": false,
     "start_time": "2023-03-31T09:25:13.225266",
     "status": "completed"
    },
    "tags": []
   },
   "outputs": [
    {
     "data": {
      "text/plain": [
       "HomePage                           153\n",
       "HomePage_Duration                  150\n",
       "LandingPage                        153\n",
       "LandingPage_Duration               135\n",
       "ProductDescriptionPage             123\n",
       "ProductDescriptionPage_Duration    167\n",
       "GoogleMetric:Bounce Rates          151\n",
       "GoogleMetric:Exit Rates            129\n",
       "GoogleMetric:Page Values           132\n",
       "SeasonalPurchase                   150\n",
       "Month_SeasonalPurchase             144\n",
       "OS                                 134\n",
       "SearchEngine                       122\n",
       "Zone                               117\n",
       "Type of Traffic                    143\n",
       "CustomerType                       144\n",
       "Gender                             145\n",
       "Cookies Setting                    144\n",
       "Education                          136\n",
       "Marital Status                     130\n",
       "WeekendPurchase                    121\n",
       "Made_Purchase                        0\n",
       "dtype: int64"
      ]
     },
     "execution_count": 6,
     "metadata": {},
     "output_type": "execute_result"
    }
   ],
   "source": [
    "data.isna().sum()"
   ]
  },
  {
   "cell_type": "code",
   "execution_count": 7,
   "id": "0cdbbfb9",
   "metadata": {
    "execution": {
     "iopub.execute_input": "2023-03-31T09:25:13.311118Z",
     "iopub.status.busy": "2023-03-31T09:25:13.309972Z",
     "iopub.status.idle": "2023-03-31T09:25:14.849750Z",
     "shell.execute_reply": "2023-03-31T09:25:14.848369Z"
    },
    "papermill": {
     "duration": 1.566853,
     "end_time": "2023-03-31T09:25:14.853017",
     "exception": false,
     "start_time": "2023-03-31T09:25:13.286164",
     "status": "completed"
    },
    "tags": []
   },
   "outputs": [
    {
     "data": {
      "text/plain": [
       "<AxesSubplot:>"
      ]
     },
     "execution_count": 7,
     "metadata": {},
     "output_type": "execute_result"
    },
    {
     "data": {
      "image/png": "[encoded data removed]",
      "text/plain": [
       "<Figure size 432x288 with 2 Axes>"
      ]
     },
     "metadata": {
      "needs_background": "light"
     },
     "output_type": "display_data"
    }
   ],
   "source": [
    "sns.heatmap(data.corr(), annot = True, fmt = '.1f', cmap = 'crest')"
   ]
  },
  {
   "cell_type": "code",
   "execution_count": 8,
   "id": "448dc482",
   "metadata": {
    "execution": {
     "iopub.execute_input": "2023-03-31T09:25:14.903490Z",
     "iopub.status.busy": "2023-03-31T09:25:14.903069Z",
     "iopub.status.idle": "2023-03-31T09:25:14.981146Z",
     "shell.execute_reply": "2023-03-31T09:25:14.979846Z"
    },
    "papermill": {
     "duration": 0.105511,
     "end_time": "2023-03-31T09:25:14.983708",
     "exception": false,
     "start_time": "2023-03-31T09:25:14.878197",
     "status": "completed"
    },
    "tags": []
   },
   "outputs": [
    {
     "data": {
      "text/html": [
       "<div>\n",
       "<style scoped>\n",
       "    .dataframe tbody tr th:only-of-type {\n",
       "        vertical-align: middle;\n",
       "    }\n",
       "\n",
       "    .dataframe tbody tr th {\n",
       "        vertical-align: top;\n",
       "    }\n",
       "\n",
       "    .dataframe thead th {\n",
       "        text-align: right;\n",
       "    }\n",
       "</style>\n",
       "<table border=\"1\" class=\"dataframe\">\n",
       "  <thead>\n",
       "    <tr style=\"text-align: right;\">\n",
       "      <th></th>\n",
       "      <th>count</th>\n",
       "      <th>mean</th>\n",
       "      <th>std</th>\n",
       "      <th>min</th>\n",
       "      <th>25%</th>\n",
       "      <th>50%</th>\n",
       "      <th>75%</th>\n",
       "      <th>max</th>\n",
       "    </tr>\n",
       "  </thead>\n",
       "  <tbody>\n",
       "    <tr>\n",
       "      <th>HomePage</th>\n",
       "      <td>14578.0</td>\n",
       "      <td>2.250240</td>\n",
       "      <td>3.288042</td>\n",
       "      <td>0.0</td>\n",
       "      <td>0.000000</td>\n",
       "      <td>1.000000</td>\n",
       "      <td>3.000000</td>\n",
       "      <td>27.000000</td>\n",
       "    </tr>\n",
       "    <tr>\n",
       "      <th>HomePage_Duration</th>\n",
       "      <td>14581.0</td>\n",
       "      <td>79.300762</td>\n",
       "      <td>179.374699</td>\n",
       "      <td>0.0</td>\n",
       "      <td>0.000000</td>\n",
       "      <td>5.000000</td>\n",
       "      <td>91.000000</td>\n",
       "      <td>3398.750000</td>\n",
       "    </tr>\n",
       "    <tr>\n",
       "      <th>LandingPage</th>\n",
       "      <td>14578.0</td>\n",
       "      <td>0.490739</td>\n",
       "      <td>1.252376</td>\n",
       "      <td>0.0</td>\n",
       "      <td>0.000000</td>\n",
       "      <td>0.000000</td>\n",
       "      <td>0.000000</td>\n",
       "      <td>24.000000</td>\n",
       "    </tr>\n",
       "    <tr>\n",
       "      <th>LandingPage_Duration</th>\n",
       "      <td>14596.0</td>\n",
       "      <td>33.455943</td>\n",
       "      <td>140.146256</td>\n",
       "      <td>0.0</td>\n",
       "      <td>0.000000</td>\n",
       "      <td>0.000000</td>\n",
       "      <td>0.000000</td>\n",
       "      <td>2549.375000</td>\n",
       "    </tr>\n",
       "    <tr>\n",
       "      <th>ProductDescriptionPage</th>\n",
       "      <td>14608.0</td>\n",
       "      <td>31.559488</td>\n",
       "      <td>44.897089</td>\n",
       "      <td>0.0</td>\n",
       "      <td>7.000000</td>\n",
       "      <td>17.500000</td>\n",
       "      <td>38.000000</td>\n",
       "      <td>705.000000</td>\n",
       "    </tr>\n",
       "    <tr>\n",
       "      <th>ProductDescriptionPage_Duration</th>\n",
       "      <td>14564.0</td>\n",
       "      <td>1184.346084</td>\n",
       "      <td>2009.496307</td>\n",
       "      <td>0.0</td>\n",
       "      <td>173.187500</td>\n",
       "      <td>584.333333</td>\n",
       "      <td>1434.255128</td>\n",
       "      <td>63973.522230</td>\n",
       "    </tr>\n",
       "    <tr>\n",
       "      <th>GoogleMetric:Bounce Rates</th>\n",
       "      <td>14580.0</td>\n",
       "      <td>0.023366</td>\n",
       "      <td>0.050011</td>\n",
       "      <td>0.0</td>\n",
       "      <td>0.000000</td>\n",
       "      <td>0.003478</td>\n",
       "      <td>0.018182</td>\n",
       "      <td>0.200000</td>\n",
       "    </tr>\n",
       "    <tr>\n",
       "      <th>GoogleMetric:Exit Rates</th>\n",
       "      <td>14602.0</td>\n",
       "      <td>0.044664</td>\n",
       "      <td>0.049912</td>\n",
       "      <td>0.0</td>\n",
       "      <td>0.014502</td>\n",
       "      <td>0.026406</td>\n",
       "      <td>0.050000</td>\n",
       "      <td>0.200000</td>\n",
       "    </tr>\n",
       "    <tr>\n",
       "      <th>GoogleMetric:Page Values</th>\n",
       "      <td>14599.0</td>\n",
       "      <td>4.812620</td>\n",
       "      <td>16.887366</td>\n",
       "      <td>0.0</td>\n",
       "      <td>0.000000</td>\n",
       "      <td>0.000000</td>\n",
       "      <td>0.000000</td>\n",
       "      <td>361.763742</td>\n",
       "    </tr>\n",
       "    <tr>\n",
       "      <th>SeasonalPurchase</th>\n",
       "      <td>14581.0</td>\n",
       "      <td>0.064083</td>\n",
       "      <td>0.202583</td>\n",
       "      <td>0.0</td>\n",
       "      <td>0.000000</td>\n",
       "      <td>0.000000</td>\n",
       "      <td>0.000000</td>\n",
       "      <td>1.000000</td>\n",
       "    </tr>\n",
       "    <tr>\n",
       "      <th>OS</th>\n",
       "      <td>14597.0</td>\n",
       "      <td>2.122422</td>\n",
       "      <td>0.914404</td>\n",
       "      <td>1.0</td>\n",
       "      <td>2.000000</td>\n",
       "      <td>2.000000</td>\n",
       "      <td>3.000000</td>\n",
       "      <td>8.000000</td>\n",
       "    </tr>\n",
       "    <tr>\n",
       "      <th>SearchEngine</th>\n",
       "      <td>14609.0</td>\n",
       "      <td>2.356629</td>\n",
       "      <td>1.721823</td>\n",
       "      <td>1.0</td>\n",
       "      <td>2.000000</td>\n",
       "      <td>2.000000</td>\n",
       "      <td>2.000000</td>\n",
       "      <td>13.000000</td>\n",
       "    </tr>\n",
       "    <tr>\n",
       "      <th>Zone</th>\n",
       "      <td>14614.0</td>\n",
       "      <td>3.155673</td>\n",
       "      <td>2.405155</td>\n",
       "      <td>1.0</td>\n",
       "      <td>1.000000</td>\n",
       "      <td>3.000000</td>\n",
       "      <td>4.000000</td>\n",
       "      <td>9.000000</td>\n",
       "    </tr>\n",
       "    <tr>\n",
       "      <th>Type of Traffic</th>\n",
       "      <td>14588.0</td>\n",
       "      <td>4.090143</td>\n",
       "      <td>4.040147</td>\n",
       "      <td>1.0</td>\n",
       "      <td>2.000000</td>\n",
       "      <td>2.000000</td>\n",
       "      <td>4.000000</td>\n",
       "      <td>20.000000</td>\n",
       "    </tr>\n",
       "    <tr>\n",
       "      <th>WeekendPurchase</th>\n",
       "      <td>14610.0</td>\n",
       "      <td>0.234155</td>\n",
       "      <td>0.423484</td>\n",
       "      <td>0.0</td>\n",
       "      <td>0.000000</td>\n",
       "      <td>0.000000</td>\n",
       "      <td>0.000000</td>\n",
       "      <td>1.000000</td>\n",
       "    </tr>\n",
       "  </tbody>\n",
       "</table>\n",
       "</div>"
      ],
      "text/plain": [
       "                                   count         mean          std  min  \\\n",
       "HomePage                         14578.0     2.250240     3.288042  0.0   \n",
       "HomePage_Duration                14581.0    79.300762   179.374699  0.0   \n",
       "LandingPage                      14578.0     0.490739     1.252376  0.0   \n",
       "LandingPage_Duration             14596.0    33.455943   140.146256  0.0   \n",
       "ProductDescriptionPage           14608.0    31.559488    44.897089  0.0   \n",
       "ProductDescriptionPage_Duration  14564.0  1184.346084  2009.496307  0.0   \n",
       "GoogleMetric:Bounce Rates        14580.0     0.023366     0.050011  0.0   \n",
       "GoogleMetric:Exit Rates          14602.0     0.044664     0.049912  0.0   \n",
       "GoogleMetric:Page Values         14599.0     4.812620    16.887366  0.0   \n",
       "SeasonalPurchase                 14581.0     0.064083     0.202583  0.0   \n",
       "OS                               14597.0     2.122422     0.914404  1.0   \n",
       "SearchEngine                     14609.0     2.356629     1.721823  1.0   \n",
       "Zone                             14614.0     3.155673     2.405155  1.0   \n",
       "Type of Traffic                  14588.0     4.090143     4.040147  1.0   \n",
       "WeekendPurchase                  14610.0     0.234155     0.423484  0.0   \n",
       "\n",
       "                                        25%         50%          75%  \\\n",
       "HomePage                           0.000000    1.000000     3.000000   \n",
       "HomePage_Duration                  0.000000    5.000000    91.000000   \n",
       "LandingPage                        0.000000    0.000000     0.000000   \n",
       "LandingPage_Duration               0.000000    0.000000     0.000000   \n",
       "ProductDescriptionPage             7.000000   17.500000    38.000000   \n",
       "ProductDescriptionPage_Duration  173.187500  584.333333  1434.255128   \n",
       "GoogleMetric:Bounce Rates          0.000000    0.003478     0.018182   \n",
       "GoogleMetric:Exit Rates            0.014502    0.026406     0.050000   \n",
       "GoogleMetric:Page Values           0.000000    0.000000     0.000000   \n",
       "SeasonalPurchase                   0.000000    0.000000     0.000000   \n",
       "OS                                 2.000000    2.000000     3.000000   \n",
       "SearchEngine                       2.000000    2.000000     2.000000   \n",
       "Zone                               1.000000    3.000000     4.000000   \n",
       "Type of Traffic                    2.000000    2.000000     4.000000   \n",
       "WeekendPurchase                    0.000000    0.000000     0.000000   \n",
       "\n",
       "                                          max  \n",
       "HomePage                            27.000000  \n",
       "HomePage_Duration                 3398.750000  \n",
       "LandingPage                         24.000000  \n",
       "LandingPage_Duration              2549.375000  \n",
       "ProductDescriptionPage             705.000000  \n",
       "ProductDescriptionPage_Duration  63973.522230  \n",
       "GoogleMetric:Bounce Rates            0.200000  \n",
       "GoogleMetric:Exit Rates              0.200000  \n",
       "GoogleMetric:Page Values           361.763742  \n",
       "SeasonalPurchase                     1.000000  \n",
       "OS                                   8.000000  \n",
       "SearchEngine                        13.000000  \n",
       "Zone                                 9.000000  \n",
       "Type of Traffic                     20.000000  \n",
       "WeekendPurchase                      1.000000  "
      ]
     },
     "execution_count": 8,
     "metadata": {},
     "output_type": "execute_result"
    }
   ],
   "source": [
    "data.describe().T"
   ]
  },
  {
   "cell_type": "markdown",
   "id": "55f21e62",
   "metadata": {
    "papermill": {
     "duration": 0.023754,
     "end_time": "2023-03-31T09:25:15.032781",
     "exception": false,
     "start_time": "2023-03-31T09:25:15.009027",
     "status": "completed"
    },
    "tags": []
   },
   "source": [
    "# Data preprocessing"
   ]
  },
  {
   "cell_type": "code",
   "execution_count": 9,
   "id": "373d1dd6",
   "metadata": {
    "execution": {
     "iopub.execute_input": "2023-03-31T09:25:15.082756Z",
     "iopub.status.busy": "2023-03-31T09:25:15.082268Z",
     "iopub.status.idle": "2023-03-31T09:25:15.091382Z",
     "shell.execute_reply": "2023-03-31T09:25:15.089876Z"
    },
    "papermill": {
     "duration": 0.03714,
     "end_time": "2023-03-31T09:25:15.093943",
     "exception": false,
     "start_time": "2023-03-31T09:25:15.056803",
     "status": "completed"
    },
    "tags": []
   },
   "outputs": [],
   "source": [
    "data['Gender'] = data['Gender'].replace('Not Specified', np.nan)\n",
    "data['Education'] = data['Education'].replace('Not Specified', 'Others')"
   ]
  },
  {
   "cell_type": "code",
   "execution_count": 10,
   "id": "5eb7a34e",
   "metadata": {
    "execution": {
     "iopub.execute_input": "2023-03-31T09:25:15.143732Z",
     "iopub.status.busy": "2023-03-31T09:25:15.143319Z",
     "iopub.status.idle": "2023-03-31T09:25:15.150975Z",
     "shell.execute_reply": "2023-03-31T09:25:15.149822Z"
    },
    "papermill": {
     "duration": 0.035028,
     "end_time": "2023-03-31T09:25:15.153160",
     "exception": false,
     "start_time": "2023-03-31T09:25:15.118132",
     "status": "completed"
    },
    "tags": []
   },
   "outputs": [],
   "source": [
    "# Splitting the data as feature and label\n",
    "\n",
    "data_label = data.iloc[:,-1]\n",
    "data_feature = data.iloc[:, :-1]"
   ]
  },
  {
   "cell_type": "code",
   "execution_count": 11,
   "id": "ab6d9dea",
   "metadata": {
    "execution": {
     "iopub.execute_input": "2023-03-31T09:25:15.202357Z",
     "iopub.status.busy": "2023-03-31T09:25:15.201941Z",
     "iopub.status.idle": "2023-03-31T09:25:15.219981Z",
     "shell.execute_reply": "2023-03-31T09:25:15.218952Z"
    },
    "papermill": {
     "duration": 0.045504,
     "end_time": "2023-03-31T09:25:15.222449",
     "exception": false,
     "start_time": "2023-03-31T09:25:15.176945",
     "status": "completed"
    },
    "tags": []
   },
   "outputs": [
    {
     "name": "stdout",
     "output_type": "stream",
     "text": [
      "<class 'pandas.core.frame.DataFrame'>\n",
      "RangeIndex: 14731 entries, 0 to 14730\n",
      "Data columns (total 21 columns):\n",
      " #   Column                           Non-Null Count  Dtype  \n",
      "---  ------                           --------------  -----  \n",
      " 0   HomePage                         14578 non-null  float64\n",
      " 1   HomePage_Duration                14581 non-null  float64\n",
      " 2   LandingPage                      14578 non-null  float64\n",
      " 3   LandingPage_Duration             14596 non-null  float64\n",
      " 4   ProductDescriptionPage           14608 non-null  float64\n",
      " 5   ProductDescriptionPage_Duration  14564 non-null  float64\n",
      " 6   GoogleMetric:Bounce Rates        14580 non-null  float64\n",
      " 7   GoogleMetric:Exit Rates          14602 non-null  float64\n",
      " 8   GoogleMetric:Page Values         14599 non-null  float64\n",
      " 9   SeasonalPurchase                 14581 non-null  float64\n",
      " 10  Month_SeasonalPurchase           14587 non-null  object \n",
      " 11  OS                               14597 non-null  float64\n",
      " 12  SearchEngine                     14609 non-null  float64\n",
      " 13  Zone                             14614 non-null  float64\n",
      " 14  Type of Traffic                  14588 non-null  float64\n",
      " 15  CustomerType                     14587 non-null  object \n",
      " 16  Gender                           9615 non-null   object \n",
      " 17  Cookies Setting                  14587 non-null  object \n",
      " 18  Education                        14595 non-null  object \n",
      " 19  Marital Status                   14601 non-null  object \n",
      " 20  WeekendPurchase                  14610 non-null  float64\n",
      "dtypes: float64(15), object(6)\n",
      "memory usage: 2.4+ MB\n"
     ]
    }
   ],
   "source": [
    "data_feature.info()"
   ]
  },
  {
   "cell_type": "code",
   "execution_count": 12,
   "id": "2c65604a",
   "metadata": {
    "execution": {
     "iopub.execute_input": "2023-03-31T09:25:15.273070Z",
     "iopub.status.busy": "2023-03-31T09:25:15.272336Z",
     "iopub.status.idle": "2023-03-31T09:25:15.283328Z",
     "shell.execute_reply": "2023-03-31T09:25:15.281786Z"
    },
    "papermill": {
     "duration": 0.03967,
     "end_time": "2023-03-31T09:25:15.286142",
     "exception": false,
     "start_time": "2023-03-31T09:25:15.246472",
     "status": "completed"
    },
    "tags": []
   },
   "outputs": [],
   "source": [
    "# Arranging the columns as all the columns with float dtype grouped together in a series and same with the object dtype columns.\n",
    "\n",
    "columns = data_feature.columns.tolist()\n",
    "new_columns = columns[0:10] + columns[11:15] + [columns[20]] + [columns[10]] + columns[15:20]\n",
    "data_feature = data_feature[new_columns]"
   ]
  },
  {
   "cell_type": "code",
   "execution_count": 13,
   "id": "3883f216",
   "metadata": {
    "execution": {
     "iopub.execute_input": "2023-03-31T09:25:15.336290Z",
     "iopub.status.busy": "2023-03-31T09:25:15.335831Z",
     "iopub.status.idle": "2023-03-31T09:25:15.356070Z",
     "shell.execute_reply": "2023-03-31T09:25:15.354127Z"
    },
    "papermill": {
     "duration": 0.048494,
     "end_time": "2023-03-31T09:25:15.358715",
     "exception": false,
     "start_time": "2023-03-31T09:25:15.310221",
     "status": "completed"
    },
    "tags": []
   },
   "outputs": [
    {
     "name": "stdout",
     "output_type": "stream",
     "text": [
      "<class 'pandas.core.frame.DataFrame'>\n",
      "RangeIndex: 14731 entries, 0 to 14730\n",
      "Data columns (total 21 columns):\n",
      " #   Column                           Non-Null Count  Dtype  \n",
      "---  ------                           --------------  -----  \n",
      " 0   HomePage                         14578 non-null  float64\n",
      " 1   HomePage_Duration                14581 non-null  float64\n",
      " 2   LandingPage                      14578 non-null  float64\n",
      " 3   LandingPage_Duration             14596 non-null  float64\n",
      " 4   ProductDescriptionPage           14608 non-null  float64\n",
      " 5   ProductDescriptionPage_Duration  14564 non-null  float64\n",
      " 6   GoogleMetric:Bounce Rates        14580 non-null  float64\n",
      " 7   GoogleMetric:Exit Rates          14602 non-null  float64\n",
      " 8   GoogleMetric:Page Values         14599 non-null  float64\n",
      " 9   SeasonalPurchase                 14581 non-null  float64\n",
      " 10  OS                               14597 non-null  float64\n",
      " 11  SearchEngine                     14609 non-null  float64\n",
      " 12  Zone                             14614 non-null  float64\n",
      " 13  Type of Traffic                  14588 non-null  float64\n",
      " 14  WeekendPurchase                  14610 non-null  float64\n",
      " 15  Month_SeasonalPurchase           14587 non-null  object \n",
      " 16  CustomerType                     14587 non-null  object \n",
      " 17  Gender                           9615 non-null   object \n",
      " 18  Cookies Setting                  14587 non-null  object \n",
      " 19  Education                        14595 non-null  object \n",
      " 20  Marital Status                   14601 non-null  object \n",
      "dtypes: float64(15), object(6)\n",
      "memory usage: 2.4+ MB\n"
     ]
    }
   ],
   "source": [
    "data_feature.info()"
   ]
  },
  {
   "cell_type": "code",
   "execution_count": 14,
   "id": "c6fc6115",
   "metadata": {
    "execution": {
     "iopub.execute_input": "2023-03-31T09:25:15.412530Z",
     "iopub.status.busy": "2023-03-31T09:25:15.411649Z",
     "iopub.status.idle": "2023-03-31T09:25:15.431998Z",
     "shell.execute_reply": "2023-03-31T09:25:15.430587Z"
    },
    "papermill": {
     "duration": 0.050035,
     "end_time": "2023-03-31T09:25:15.434770",
     "exception": false,
     "start_time": "2023-03-31T09:25:15.384735",
     "status": "completed"
    },
    "tags": []
   },
   "outputs": [
    {
     "name": "stdout",
     "output_type": "stream",
     "text": [
      "Name of the feature:  Month_SeasonalPurchase\n",
      "Unique Values:  ['Feb' 'Mar' 'May' 'Oct' 'June' 'Jul' 'Aug' 'Nov' 'Sep' 'Dec' nan]\n",
      "Number of unique values:  11\n",
      "-\n",
      "Name of the feature:  CustomerType\n",
      "Unique Values:  ['Returning_Visitor' 'New_Visitor' 'Other' nan]\n",
      "Number of unique values:  4\n",
      "-\n",
      "Name of the feature:  Gender\n",
      "Unique Values:  [nan 'Female' 'Male']\n",
      "Number of unique values:  3\n",
      "-\n",
      "Name of the feature:  Cookies Setting\n",
      "Unique Values:  ['Deny' 'ALL' 'Required' nan]\n",
      "Number of unique values:  4\n",
      "-\n",
      "Name of the feature:  Education\n",
      "Unique Values:  ['Others' 'Diploma' 'Graduate' nan]\n",
      "Number of unique values:  4\n",
      "-\n",
      "Name of the feature:  Marital Status\n",
      "Unique Values:  ['Other' 'Married' 'Single' nan]\n",
      "Number of unique values:  4\n",
      "-\n"
     ]
    }
   ],
   "source": [
    "# Looking at the unique values in categorical columns.\n",
    "\n",
    "for i in range(15,21):\n",
    "    print('Name of the feature: ', data_feature.columns[i])\n",
    "    print('Unique Values: ', data_feature.iloc[:,i].unique())\n",
    "    print('Number of unique values: ', len(data_feature.iloc[:,i].unique()))\n",
    "    print('-')"
   ]
  },
  {
   "cell_type": "code",
   "execution_count": 15,
   "id": "b763cc1c",
   "metadata": {
    "execution": {
     "iopub.execute_input": "2023-03-31T09:25:15.485431Z",
     "iopub.status.busy": "2023-03-31T09:25:15.484995Z",
     "iopub.status.idle": "2023-03-31T09:25:15.500441Z",
     "shell.execute_reply": "2023-03-31T09:25:15.499033Z"
    },
    "papermill": {
     "duration": 0.043712,
     "end_time": "2023-03-31T09:25:15.502870",
     "exception": false,
     "start_time": "2023-03-31T09:25:15.459158",
     "status": "completed"
    },
    "tags": []
   },
   "outputs": [
    {
     "data": {
      "text/plain": [
       "HomePage                            153\n",
       "HomePage_Duration                   150\n",
       "LandingPage                         153\n",
       "LandingPage_Duration                135\n",
       "ProductDescriptionPage              123\n",
       "ProductDescriptionPage_Duration     167\n",
       "GoogleMetric:Bounce Rates           151\n",
       "GoogleMetric:Exit Rates             129\n",
       "GoogleMetric:Page Values            132\n",
       "SeasonalPurchase                    150\n",
       "OS                                  134\n",
       "SearchEngine                        122\n",
       "Zone                                117\n",
       "Type of Traffic                     143\n",
       "WeekendPurchase                     121\n",
       "Month_SeasonalPurchase              144\n",
       "CustomerType                        144\n",
       "Gender                             5116\n",
       "Cookies Setting                     144\n",
       "Education                           136\n",
       "Marital Status                      130\n",
       "dtype: int64"
      ]
     },
     "execution_count": 15,
     "metadata": {},
     "output_type": "execute_result"
    }
   ],
   "source": [
    "data_feature.isnull().sum()"
   ]
  },
  {
   "cell_type": "code",
   "execution_count": 16,
   "id": "0f275ea0",
   "metadata": {
    "execution": {
     "iopub.execute_input": "2023-03-31T09:25:15.554293Z",
     "iopub.status.busy": "2023-03-31T09:25:15.553830Z",
     "iopub.status.idle": "2023-03-31T09:25:15.568302Z",
     "shell.execute_reply": "2023-03-31T09:25:15.566307Z"
    },
    "papermill": {
     "duration": 0.043762,
     "end_time": "2023-03-31T09:25:15.571312",
     "exception": false,
     "start_time": "2023-03-31T09:25:15.527550",
     "status": "completed"
    },
    "tags": []
   },
   "outputs": [
    {
     "name": "stdout",
     "output_type": "stream",
     "text": [
      "(10311, 21) (4420, 21) (10311,) (4420,)\n"
     ]
    }
   ],
   "source": [
    "X_train, X_test, y_train, y_test = train_test_split(data_feature, data_label, test_size = 0.3, random_state = 0)\n",
    "print(X_train.shape, X_test.shape, y_train.shape, y_test.shape)"
   ]
  },
  {
   "cell_type": "code",
   "execution_count": 17,
   "id": "b5af1d93",
   "metadata": {
    "execution": {
     "iopub.execute_input": "2023-03-31T09:25:15.624092Z",
     "iopub.status.busy": "2023-03-31T09:25:15.623678Z",
     "iopub.status.idle": "2023-03-31T09:25:15.628739Z",
     "shell.execute_reply": "2023-03-31T09:25:15.627466Z"
    },
    "papermill": {
     "duration": 0.033354,
     "end_time": "2023-03-31T09:25:15.631116",
     "exception": false,
     "start_time": "2023-03-31T09:25:15.597762",
     "status": "completed"
    },
    "tags": []
   },
   "outputs": [],
   "source": [
    "from sklearn.preprocessing import RobustScaler"
   ]
  },
  {
   "cell_type": "code",
   "execution_count": 18,
   "id": "f02a8748",
   "metadata": {
    "execution": {
     "iopub.execute_input": "2023-03-31T09:25:15.683495Z",
     "iopub.status.busy": "2023-03-31T09:25:15.683058Z",
     "iopub.status.idle": "2023-03-31T09:25:15.688779Z",
     "shell.execute_reply": "2023-03-31T09:25:15.687669Z"
    },
    "papermill": {
     "duration": 0.03424,
     "end_time": "2023-03-31T09:25:15.690993",
     "exception": false,
     "start_time": "2023-03-31T09:25:15.656753",
     "status": "completed"
    },
    "tags": []
   },
   "outputs": [],
   "source": [
    "num_pipeline = Pipeline([('scaler', RobustScaler()),\n",
    "                         ('knn', KNNImputer(n_neighbors = 120))])\n",
    "\n",
    "cat_pipeline = Pipeline([('imputer', SimpleImputer(strategy = 'most_frequent')),\n",
    "                        ('ohe', OneHotEncoder())])"
   ]
  },
  {
   "cell_type": "code",
   "execution_count": 19,
   "id": "e25e2710",
   "metadata": {
    "execution": {
     "iopub.execute_input": "2023-03-31T09:25:15.741652Z",
     "iopub.status.busy": "2023-03-31T09:25:15.741250Z",
     "iopub.status.idle": "2023-03-31T09:25:15.748450Z",
     "shell.execute_reply": "2023-03-31T09:25:15.747288Z"
    },
    "papermill": {
     "duration": 0.035433,
     "end_time": "2023-03-31T09:25:15.750856",
     "exception": false,
     "start_time": "2023-03-31T09:25:15.715423",
     "status": "completed"
    },
    "tags": []
   },
   "outputs": [],
   "source": [
    "y_train = pd.DataFrame(LabelEncoder().fit_transform(y_train), columns = ['Target'])\n",
    "\n",
    "y_test = pd.DataFrame(LabelEncoder().fit_transform(y_test), columns = ['Target'])"
   ]
  },
  {
   "cell_type": "code",
   "execution_count": 20,
   "id": "22b91749",
   "metadata": {
    "execution": {
     "iopub.execute_input": "2023-03-31T09:25:15.803746Z",
     "iopub.status.busy": "2023-03-31T09:25:15.803307Z",
     "iopub.status.idle": "2023-03-31T09:25:17.343380Z",
     "shell.execute_reply": "2023-03-31T09:25:17.342041Z"
    },
    "papermill": {
     "duration": 1.570123,
     "end_time": "2023-03-31T09:25:17.346309",
     "exception": false,
     "start_time": "2023-03-31T09:25:15.776186",
     "status": "completed"
    },
    "tags": []
   },
   "outputs": [],
   "source": [
    "full_pipeline = ColumnTransformer([('num', num_pipeline, slice(0,15)),\n",
    "                                   ('cat',cat_pipeline, slice(15,21))])\n",
    "\n",
    "X_train = pd.DataFrame(full_pipeline.fit_transform(X_train))\n",
    "\n",
    "X_test = pd.DataFrame(full_pipeline.fit_transform(X_test))"
   ]
  },
  {
   "cell_type": "code",
   "execution_count": 21,
   "id": "dda03b29",
   "metadata": {
    "execution": {
     "iopub.execute_input": "2023-03-31T09:25:17.397469Z",
     "iopub.status.busy": "2023-03-31T09:25:17.396770Z",
     "iopub.status.idle": "2023-03-31T09:25:17.542778Z",
     "shell.execute_reply": "2023-03-31T09:25:17.541621Z"
    },
    "papermill": {
     "duration": 0.174634,
     "end_time": "2023-03-31T09:25:17.545419",
     "exception": false,
     "start_time": "2023-03-31T09:25:17.370785",
     "status": "completed"
    },
    "tags": []
   },
   "outputs": [
    {
     "data": {
      "text/html": [
       "<div>\n",
       "<style scoped>\n",
       "    .dataframe tbody tr th:only-of-type {\n",
       "        vertical-align: middle;\n",
       "    }\n",
       "\n",
       "    .dataframe tbody tr th {\n",
       "        vertical-align: top;\n",
       "    }\n",
       "\n",
       "    .dataframe thead th {\n",
       "        text-align: right;\n",
       "    }\n",
       "</style>\n",
       "<table border=\"1\" class=\"dataframe\">\n",
       "  <thead>\n",
       "    <tr style=\"text-align: right;\">\n",
       "      <th></th>\n",
       "      <th>count</th>\n",
       "      <th>mean</th>\n",
       "      <th>std</th>\n",
       "      <th>min</th>\n",
       "      <th>25%</th>\n",
       "      <th>50%</th>\n",
       "      <th>75%</th>\n",
       "      <th>max</th>\n",
       "    </tr>\n",
       "  </thead>\n",
       "  <tbody>\n",
       "    <tr>\n",
       "      <th>0</th>\n",
       "      <td>10311.0</td>\n",
       "      <td>0.414910</td>\n",
       "      <td>1.096700</td>\n",
       "      <td>-0.333333</td>\n",
       "      <td>-0.333333</td>\n",
       "      <td>0.000000</td>\n",
       "      <td>0.666667</td>\n",
       "      <td>8.666667</td>\n",
       "    </tr>\n",
       "    <tr>\n",
       "      <th>1</th>\n",
       "      <td>10311.0</td>\n",
       "      <td>0.836706</td>\n",
       "      <td>2.016141</td>\n",
       "      <td>-0.056818</td>\n",
       "      <td>-0.056818</td>\n",
       "      <td>0.000000</td>\n",
       "      <td>0.943182</td>\n",
       "      <td>38.565341</td>\n",
       "    </tr>\n",
       "    <tr>\n",
       "      <th>2</th>\n",
       "      <td>10311.0</td>\n",
       "      <td>0.490894</td>\n",
       "      <td>1.215321</td>\n",
       "      <td>0.000000</td>\n",
       "      <td>0.000000</td>\n",
       "      <td>0.000000</td>\n",
       "      <td>0.000000</td>\n",
       "      <td>14.000000</td>\n",
       "    </tr>\n",
       "    <tr>\n",
       "      <th>3</th>\n",
       "      <td>10311.0</td>\n",
       "      <td>33.858726</td>\n",
       "      <td>139.680581</td>\n",
       "      <td>0.000000</td>\n",
       "      <td>0.000000</td>\n",
       "      <td>0.000000</td>\n",
       "      <td>0.000000</td>\n",
       "      <td>2549.375000</td>\n",
       "    </tr>\n",
       "    <tr>\n",
       "      <th>4</th>\n",
       "      <td>10311.0</td>\n",
       "      <td>0.476977</td>\n",
       "      <td>1.482733</td>\n",
       "      <td>-0.566667</td>\n",
       "      <td>-0.333333</td>\n",
       "      <td>0.000000</td>\n",
       "      <td>0.666667</td>\n",
       "      <td>22.300000</td>\n",
       "    </tr>\n",
       "    <tr>\n",
       "      <th>5</th>\n",
       "      <td>10311.0</td>\n",
       "      <td>0.470586</td>\n",
       "      <td>1.583634</td>\n",
       "      <td>-0.462705</td>\n",
       "      <td>-0.327202</td>\n",
       "      <td>0.001607</td>\n",
       "      <td>0.671860</td>\n",
       "      <td>50.230976</td>\n",
       "    </tr>\n",
       "    <tr>\n",
       "      <th>6</th>\n",
       "      <td>10311.0</td>\n",
       "      <td>1.115339</td>\n",
       "      <td>2.780509</td>\n",
       "      <td>-0.200000</td>\n",
       "      <td>-0.200000</td>\n",
       "      <td>0.007547</td>\n",
       "      <td>0.800000</td>\n",
       "      <td>10.800000</td>\n",
       "    </tr>\n",
       "    <tr>\n",
       "      <th>7</th>\n",
       "      <td>10311.0</td>\n",
       "      <td>0.529462</td>\n",
       "      <td>1.425085</td>\n",
       "      <td>-0.749168</td>\n",
       "      <td>-0.331553</td>\n",
       "      <td>0.000711</td>\n",
       "      <td>0.665927</td>\n",
       "      <td>4.911210</td>\n",
       "    </tr>\n",
       "    <tr>\n",
       "      <th>8</th>\n",
       "      <td>10311.0</td>\n",
       "      <td>4.674301</td>\n",
       "      <td>16.015111</td>\n",
       "      <td>0.000000</td>\n",
       "      <td>0.000000</td>\n",
       "      <td>0.000000</td>\n",
       "      <td>0.000000</td>\n",
       "      <td>361.763742</td>\n",
       "    </tr>\n",
       "    <tr>\n",
       "      <th>9</th>\n",
       "      <td>10311.0</td>\n",
       "      <td>0.064990</td>\n",
       "      <td>0.202602</td>\n",
       "      <td>0.000000</td>\n",
       "      <td>0.000000</td>\n",
       "      <td>0.000000</td>\n",
       "      <td>0.000000</td>\n",
       "      <td>1.000000</td>\n",
       "    </tr>\n",
       "    <tr>\n",
       "      <th>10</th>\n",
       "      <td>10311.0</td>\n",
       "      <td>0.125847</td>\n",
       "      <td>0.903144</td>\n",
       "      <td>-1.000000</td>\n",
       "      <td>0.000000</td>\n",
       "      <td>0.000000</td>\n",
       "      <td>1.000000</td>\n",
       "      <td>6.000000</td>\n",
       "    </tr>\n",
       "    <tr>\n",
       "      <th>11</th>\n",
       "      <td>10311.0</td>\n",
       "      <td>0.352461</td>\n",
       "      <td>1.711953</td>\n",
       "      <td>-1.000000</td>\n",
       "      <td>0.000000</td>\n",
       "      <td>0.000000</td>\n",
       "      <td>0.000000</td>\n",
       "      <td>11.000000</td>\n",
       "    </tr>\n",
       "    <tr>\n",
       "      <th>12</th>\n",
       "      <td>10311.0</td>\n",
       "      <td>0.042072</td>\n",
       "      <td>0.794781</td>\n",
       "      <td>-0.666667</td>\n",
       "      <td>-0.666667</td>\n",
       "      <td>0.000000</td>\n",
       "      <td>0.333333</td>\n",
       "      <td>2.000000</td>\n",
       "    </tr>\n",
       "    <tr>\n",
       "      <th>13</th>\n",
       "      <td>10311.0</td>\n",
       "      <td>1.053580</td>\n",
       "      <td>2.020153</td>\n",
       "      <td>-0.500000</td>\n",
       "      <td>0.000000</td>\n",
       "      <td>0.000000</td>\n",
       "      <td>1.000000</td>\n",
       "      <td>9.000000</td>\n",
       "    </tr>\n",
       "    <tr>\n",
       "      <th>14</th>\n",
       "      <td>10311.0</td>\n",
       "      <td>0.233888</td>\n",
       "      <td>0.421747</td>\n",
       "      <td>0.000000</td>\n",
       "      <td>0.000000</td>\n",
       "      <td>0.000000</td>\n",
       "      <td>0.000000</td>\n",
       "      <td>1.000000</td>\n",
       "    </tr>\n",
       "    <tr>\n",
       "      <th>15</th>\n",
       "      <td>10311.0</td>\n",
       "      <td>0.034138</td>\n",
       "      <td>0.181593</td>\n",
       "      <td>0.000000</td>\n",
       "      <td>0.000000</td>\n",
       "      <td>0.000000</td>\n",
       "      <td>0.000000</td>\n",
       "      <td>1.000000</td>\n",
       "    </tr>\n",
       "    <tr>\n",
       "      <th>16</th>\n",
       "      <td>10311.0</td>\n",
       "      <td>0.137620</td>\n",
       "      <td>0.344517</td>\n",
       "      <td>0.000000</td>\n",
       "      <td>0.000000</td>\n",
       "      <td>0.000000</td>\n",
       "      <td>0.000000</td>\n",
       "      <td>1.000000</td>\n",
       "    </tr>\n",
       "    <tr>\n",
       "      <th>17</th>\n",
       "      <td>10311.0</td>\n",
       "      <td>0.015905</td>\n",
       "      <td>0.125115</td>\n",
       "      <td>0.000000</td>\n",
       "      <td>0.000000</td>\n",
       "      <td>0.000000</td>\n",
       "      <td>0.000000</td>\n",
       "      <td>1.000000</td>\n",
       "    </tr>\n",
       "    <tr>\n",
       "      <th>18</th>\n",
       "      <td>10311.0</td>\n",
       "      <td>0.032878</td>\n",
       "      <td>0.178325</td>\n",
       "      <td>0.000000</td>\n",
       "      <td>0.000000</td>\n",
       "      <td>0.000000</td>\n",
       "      <td>0.000000</td>\n",
       "      <td>1.000000</td>\n",
       "    </tr>\n",
       "    <tr>\n",
       "      <th>19</th>\n",
       "      <td>10311.0</td>\n",
       "      <td>0.023082</td>\n",
       "      <td>0.150172</td>\n",
       "      <td>0.000000</td>\n",
       "      <td>0.000000</td>\n",
       "      <td>0.000000</td>\n",
       "      <td>0.000000</td>\n",
       "      <td>1.000000</td>\n",
       "    </tr>\n",
       "    <tr>\n",
       "      <th>20</th>\n",
       "      <td>10311.0</td>\n",
       "      <td>0.157114</td>\n",
       "      <td>0.363926</td>\n",
       "      <td>0.000000</td>\n",
       "      <td>0.000000</td>\n",
       "      <td>0.000000</td>\n",
       "      <td>0.000000</td>\n",
       "      <td>1.000000</td>\n",
       "    </tr>\n",
       "    <tr>\n",
       "      <th>21</th>\n",
       "      <td>10311.0</td>\n",
       "      <td>0.294540</td>\n",
       "      <td>0.455858</td>\n",
       "      <td>0.000000</td>\n",
       "      <td>0.000000</td>\n",
       "      <td>0.000000</td>\n",
       "      <td>1.000000</td>\n",
       "      <td>1.000000</td>\n",
       "    </tr>\n",
       "    <tr>\n",
       "      <th>22</th>\n",
       "      <td>10311.0</td>\n",
       "      <td>0.228300</td>\n",
       "      <td>0.419757</td>\n",
       "      <td>0.000000</td>\n",
       "      <td>0.000000</td>\n",
       "      <td>0.000000</td>\n",
       "      <td>0.000000</td>\n",
       "      <td>1.000000</td>\n",
       "    </tr>\n",
       "    <tr>\n",
       "      <th>23</th>\n",
       "      <td>10311.0</td>\n",
       "      <td>0.042770</td>\n",
       "      <td>0.202348</td>\n",
       "      <td>0.000000</td>\n",
       "      <td>0.000000</td>\n",
       "      <td>0.000000</td>\n",
       "      <td>0.000000</td>\n",
       "      <td>1.000000</td>\n",
       "    </tr>\n",
       "    <tr>\n",
       "      <th>24</th>\n",
       "      <td>10311.0</td>\n",
       "      <td>0.033653</td>\n",
       "      <td>0.180344</td>\n",
       "      <td>0.000000</td>\n",
       "      <td>0.000000</td>\n",
       "      <td>0.000000</td>\n",
       "      <td>0.000000</td>\n",
       "      <td>1.000000</td>\n",
       "    </tr>\n",
       "    <tr>\n",
       "      <th>25</th>\n",
       "      <td>10311.0</td>\n",
       "      <td>0.127340</td>\n",
       "      <td>0.333369</td>\n",
       "      <td>0.000000</td>\n",
       "      <td>0.000000</td>\n",
       "      <td>0.000000</td>\n",
       "      <td>0.000000</td>\n",
       "      <td>1.000000</td>\n",
       "    </tr>\n",
       "    <tr>\n",
       "      <th>26</th>\n",
       "      <td>10311.0</td>\n",
       "      <td>0.007662</td>\n",
       "      <td>0.087200</td>\n",
       "      <td>0.000000</td>\n",
       "      <td>0.000000</td>\n",
       "      <td>0.000000</td>\n",
       "      <td>0.000000</td>\n",
       "      <td>1.000000</td>\n",
       "    </tr>\n",
       "    <tr>\n",
       "      <th>27</th>\n",
       "      <td>10311.0</td>\n",
       "      <td>0.864999</td>\n",
       "      <td>0.341742</td>\n",
       "      <td>0.000000</td>\n",
       "      <td>1.000000</td>\n",
       "      <td>1.000000</td>\n",
       "      <td>1.000000</td>\n",
       "      <td>1.000000</td>\n",
       "    </tr>\n",
       "    <tr>\n",
       "      <th>28</th>\n",
       "      <td>10311.0</td>\n",
       "      <td>0.675298</td>\n",
       "      <td>0.468286</td>\n",
       "      <td>0.000000</td>\n",
       "      <td>0.000000</td>\n",
       "      <td>1.000000</td>\n",
       "      <td>1.000000</td>\n",
       "      <td>1.000000</td>\n",
       "    </tr>\n",
       "    <tr>\n",
       "      <th>29</th>\n",
       "      <td>10311.0</td>\n",
       "      <td>0.324702</td>\n",
       "      <td>0.468286</td>\n",
       "      <td>0.000000</td>\n",
       "      <td>0.000000</td>\n",
       "      <td>0.000000</td>\n",
       "      <td>1.000000</td>\n",
       "      <td>1.000000</td>\n",
       "    </tr>\n",
       "    <tr>\n",
       "      <th>30</th>\n",
       "      <td>10311.0</td>\n",
       "      <td>0.322956</td>\n",
       "      <td>0.467629</td>\n",
       "      <td>0.000000</td>\n",
       "      <td>0.000000</td>\n",
       "      <td>0.000000</td>\n",
       "      <td>1.000000</td>\n",
       "      <td>1.000000</td>\n",
       "    </tr>\n",
       "    <tr>\n",
       "      <th>31</th>\n",
       "      <td>10311.0</td>\n",
       "      <td>0.351663</td>\n",
       "      <td>0.477513</td>\n",
       "      <td>0.000000</td>\n",
       "      <td>0.000000</td>\n",
       "      <td>0.000000</td>\n",
       "      <td>1.000000</td>\n",
       "      <td>1.000000</td>\n",
       "    </tr>\n",
       "    <tr>\n",
       "      <th>32</th>\n",
       "      <td>10311.0</td>\n",
       "      <td>0.325381</td>\n",
       "      <td>0.468540</td>\n",
       "      <td>0.000000</td>\n",
       "      <td>0.000000</td>\n",
       "      <td>0.000000</td>\n",
       "      <td>1.000000</td>\n",
       "      <td>1.000000</td>\n",
       "    </tr>\n",
       "    <tr>\n",
       "      <th>33</th>\n",
       "      <td>10311.0</td>\n",
       "      <td>0.252740</td>\n",
       "      <td>0.434604</td>\n",
       "      <td>0.000000</td>\n",
       "      <td>0.000000</td>\n",
       "      <td>0.000000</td>\n",
       "      <td>1.000000</td>\n",
       "      <td>1.000000</td>\n",
       "    </tr>\n",
       "    <tr>\n",
       "      <th>34</th>\n",
       "      <td>10311.0</td>\n",
       "      <td>0.249054</td>\n",
       "      <td>0.432486</td>\n",
       "      <td>0.000000</td>\n",
       "      <td>0.000000</td>\n",
       "      <td>0.000000</td>\n",
       "      <td>0.000000</td>\n",
       "      <td>1.000000</td>\n",
       "    </tr>\n",
       "    <tr>\n",
       "      <th>35</th>\n",
       "      <td>10311.0</td>\n",
       "      <td>0.498206</td>\n",
       "      <td>0.500021</td>\n",
       "      <td>0.000000</td>\n",
       "      <td>0.000000</td>\n",
       "      <td>0.000000</td>\n",
       "      <td>1.000000</td>\n",
       "      <td>1.000000</td>\n",
       "    </tr>\n",
       "    <tr>\n",
       "      <th>36</th>\n",
       "      <td>10311.0</td>\n",
       "      <td>0.316555</td>\n",
       "      <td>0.465155</td>\n",
       "      <td>0.000000</td>\n",
       "      <td>0.000000</td>\n",
       "      <td>0.000000</td>\n",
       "      <td>1.000000</td>\n",
       "      <td>1.000000</td>\n",
       "    </tr>\n",
       "    <tr>\n",
       "      <th>37</th>\n",
       "      <td>10311.0</td>\n",
       "      <td>0.347202</td>\n",
       "      <td>0.476104</td>\n",
       "      <td>0.000000</td>\n",
       "      <td>0.000000</td>\n",
       "      <td>0.000000</td>\n",
       "      <td>1.000000</td>\n",
       "      <td>1.000000</td>\n",
       "    </tr>\n",
       "    <tr>\n",
       "      <th>38</th>\n",
       "      <td>10311.0</td>\n",
       "      <td>0.336243</td>\n",
       "      <td>0.472446</td>\n",
       "      <td>0.000000</td>\n",
       "      <td>0.000000</td>\n",
       "      <td>0.000000</td>\n",
       "      <td>1.000000</td>\n",
       "      <td>1.000000</td>\n",
       "    </tr>\n",
       "  </tbody>\n",
       "</table>\n",
       "</div>"
      ],
      "text/plain": [
       "      count       mean         std       min       25%       50%       75%  \\\n",
       "0   10311.0   0.414910    1.096700 -0.333333 -0.333333  0.000000  0.666667   \n",
       "1   10311.0   0.836706    2.016141 -0.056818 -0.056818  0.000000  0.943182   \n",
       "2   10311.0   0.490894    1.215321  0.000000  0.000000  0.000000  0.000000   \n",
       "3   10311.0  33.858726  139.680581  0.000000  0.000000  0.000000  0.000000   \n",
       "4   10311.0   0.476977    1.482733 -0.566667 -0.333333  0.000000  0.666667   \n",
       "5   10311.0   0.470586    1.583634 -0.462705 -0.327202  0.001607  0.671860   \n",
       "6   10311.0   1.115339    2.780509 -0.200000 -0.200000  0.007547  0.800000   \n",
       "7   10311.0   0.529462    1.425085 -0.749168 -0.331553  0.000711  0.665927   \n",
       "8   10311.0   4.674301   16.015111  0.000000  0.000000  0.000000  0.000000   \n",
       "9   10311.0   0.064990    0.202602  0.000000  0.000000  0.000000  0.000000   \n",
       "10  10311.0   0.125847    0.903144 -1.000000  0.000000  0.000000  1.000000   \n",
       "11  10311.0   0.352461    1.711953 -1.000000  0.000000  0.000000  0.000000   \n",
       "12  10311.0   0.042072    0.794781 -0.666667 -0.666667  0.000000  0.333333   \n",
       "13  10311.0   1.053580    2.020153 -0.500000  0.000000  0.000000  1.000000   \n",
       "14  10311.0   0.233888    0.421747  0.000000  0.000000  0.000000  0.000000   \n",
       "15  10311.0   0.034138    0.181593  0.000000  0.000000  0.000000  0.000000   \n",
       "16  10311.0   0.137620    0.344517  0.000000  0.000000  0.000000  0.000000   \n",
       "17  10311.0   0.015905    0.125115  0.000000  0.000000  0.000000  0.000000   \n",
       "18  10311.0   0.032878    0.178325  0.000000  0.000000  0.000000  0.000000   \n",
       "19  10311.0   0.023082    0.150172  0.000000  0.000000  0.000000  0.000000   \n",
       "20  10311.0   0.157114    0.363926  0.000000  0.000000  0.000000  0.000000   \n",
       "21  10311.0   0.294540    0.455858  0.000000  0.000000  0.000000  1.000000   \n",
       "22  10311.0   0.228300    0.419757  0.000000  0.000000  0.000000  0.000000   \n",
       "23  10311.0   0.042770    0.202348  0.000000  0.000000  0.000000  0.000000   \n",
       "24  10311.0   0.033653    0.180344  0.000000  0.000000  0.000000  0.000000   \n",
       "25  10311.0   0.127340    0.333369  0.000000  0.000000  0.000000  0.000000   \n",
       "26  10311.0   0.007662    0.087200  0.000000  0.000000  0.000000  0.000000   \n",
       "27  10311.0   0.864999    0.341742  0.000000  1.000000  1.000000  1.000000   \n",
       "28  10311.0   0.675298    0.468286  0.000000  0.000000  1.000000  1.000000   \n",
       "29  10311.0   0.324702    0.468286  0.000000  0.000000  0.000000  1.000000   \n",
       "30  10311.0   0.322956    0.467629  0.000000  0.000000  0.000000  1.000000   \n",
       "31  10311.0   0.351663    0.477513  0.000000  0.000000  0.000000  1.000000   \n",
       "32  10311.0   0.325381    0.468540  0.000000  0.000000  0.000000  1.000000   \n",
       "33  10311.0   0.252740    0.434604  0.000000  0.000000  0.000000  1.000000   \n",
       "34  10311.0   0.249054    0.432486  0.000000  0.000000  0.000000  0.000000   \n",
       "35  10311.0   0.498206    0.500021  0.000000  0.000000  0.000000  1.000000   \n",
       "36  10311.0   0.316555    0.465155  0.000000  0.000000  0.000000  1.000000   \n",
       "37  10311.0   0.347202    0.476104  0.000000  0.000000  0.000000  1.000000   \n",
       "38  10311.0   0.336243    0.472446  0.000000  0.000000  0.000000  1.000000   \n",
       "\n",
       "            max  \n",
       "0      8.666667  \n",
       "1     38.565341  \n",
       "2     14.000000  \n",
       "3   2549.375000  \n",
       "4     22.300000  \n",
       "5     50.230976  \n",
       "6     10.800000  \n",
       "7      4.911210  \n",
       "8    361.763742  \n",
       "9      1.000000  \n",
       "10     6.000000  \n",
       "11    11.000000  \n",
       "12     2.000000  \n",
       "13     9.000000  \n",
       "14     1.000000  \n",
       "15     1.000000  \n",
       "16     1.000000  \n",
       "17     1.000000  \n",
       "18     1.000000  \n",
       "19     1.000000  \n",
       "20     1.000000  \n",
       "21     1.000000  \n",
       "22     1.000000  \n",
       "23     1.000000  \n",
       "24     1.000000  \n",
       "25     1.000000  \n",
       "26     1.000000  \n",
       "27     1.000000  \n",
       "28     1.000000  \n",
       "29     1.000000  \n",
       "30     1.000000  \n",
       "31     1.000000  \n",
       "32     1.000000  \n",
       "33     1.000000  \n",
       "34     1.000000  \n",
       "35     1.000000  \n",
       "36     1.000000  \n",
       "37     1.000000  \n",
       "38     1.000000  "
      ]
     },
     "execution_count": 21,
     "metadata": {},
     "output_type": "execute_result"
    }
   ],
   "source": [
    "X_train.describe().T"
   ]
  },
  {
   "cell_type": "code",
   "execution_count": 22,
   "id": "e6720176",
   "metadata": {
    "execution": {
     "iopub.execute_input": "2023-03-31T09:25:17.599069Z",
     "iopub.status.busy": "2023-03-31T09:25:17.597986Z",
     "iopub.status.idle": "2023-03-31T09:25:18.004265Z",
     "shell.execute_reply": "2023-03-31T09:25:18.003158Z"
    },
    "papermill": {
     "duration": 0.435659,
     "end_time": "2023-03-31T09:25:18.006729",
     "exception": false,
     "start_time": "2023-03-31T09:25:17.571070",
     "status": "completed"
    },
    "tags": []
   },
   "outputs": [
    {
     "data": {
      "image/png": "[encoded data removed]",
      "text/plain": [
       "<Figure size 432x288 with 1 Axes>"
      ]
     },
     "metadata": {
      "needs_background": "light"
     },
     "output_type": "display_data"
    }
   ],
   "source": [
    "# Looking for outliers\n",
    "\n",
    "X_train.iloc[:,0:15].boxplot()\n",
    "plt.show()"
   ]
  },
  {
   "cell_type": "code",
   "execution_count": 23,
   "id": "6a50a8f9",
   "metadata": {
    "execution": {
     "iopub.execute_input": "2023-03-31T09:25:18.059480Z",
     "iopub.status.busy": "2023-03-31T09:25:18.058076Z",
     "iopub.status.idle": "2023-03-31T09:25:20.320502Z",
     "shell.execute_reply": "2023-03-31T09:25:20.319308Z"
    },
    "papermill": {
     "duration": 2.291192,
     "end_time": "2023-03-31T09:25:20.322943",
     "exception": false,
     "start_time": "2023-03-31T09:25:18.031751",
     "status": "completed"
    },
    "tags": []
   },
   "outputs": [
    {
     "data": {
      "image/png": "[encoded data removed]",
      "text/plain": [
       "<Figure size 1152x720 with 16 Axes>"
      ]
     },
     "metadata": {
      "needs_background": "light"
     },
     "output_type": "display_data"
    }
   ],
   "source": [
    "# Looking at the attributes distribution \n",
    "\n",
    "X_train.iloc[:,0:15].hist(bins = 20, edgecolor = 'black', figsize = (16,10))\n",
    "plt.show()"
   ]
  },
  {
   "cell_type": "code",
   "execution_count": 24,
   "id": "eb81a0d1",
   "metadata": {
    "execution": {
     "iopub.execute_input": "2023-03-31T09:25:20.377331Z",
     "iopub.status.busy": "2023-03-31T09:25:20.376912Z",
     "iopub.status.idle": "2023-03-31T09:25:20.384777Z",
     "shell.execute_reply": "2023-03-31T09:25:20.383510Z"
    },
    "papermill": {
     "duration": 0.037466,
     "end_time": "2023-03-31T09:25:20.386894",
     "exception": false,
     "start_time": "2023-03-31T09:25:20.349428",
     "status": "completed"
    },
    "tags": []
   },
   "outputs": [
    {
     "data": {
      "text/plain": [
       "((10311, 39), (10311, 1))"
      ]
     },
     "execution_count": 24,
     "metadata": {},
     "output_type": "execute_result"
    }
   ],
   "source": [
    "X_train.shape, y_train.shape"
   ]
  },
  {
   "cell_type": "markdown",
   "id": "75174717",
   "metadata": {
    "papermill": {
     "duration": 0.026805,
     "end_time": "2023-03-31T09:25:20.440303",
     "exception": false,
     "start_time": "2023-03-31T09:25:20.413498",
     "status": "completed"
    },
    "tags": []
   },
   "source": [
    "*This shows these features are left/right skewed.*"
   ]
  },
  {
   "cell_type": "code",
   "execution_count": 25,
   "id": "dada422c",
   "metadata": {
    "execution": {
     "iopub.execute_input": "2023-03-31T09:25:20.496620Z",
     "iopub.status.busy": "2023-03-31T09:25:20.495862Z",
     "iopub.status.idle": "2023-03-31T09:25:21.653105Z",
     "shell.execute_reply": "2023-03-31T09:25:21.651907Z"
    },
    "papermill": {
     "duration": 1.188276,
     "end_time": "2023-03-31T09:25:21.655909",
     "exception": false,
     "start_time": "2023-03-31T09:25:20.467633",
     "status": "completed"
    },
    "tags": []
   },
   "outputs": [],
   "source": [
    "lof = LocalOutlierFactor(n_neighbors = 20, contamination = 0.1)\n",
    "y_pred = lof.fit_predict(X_train.iloc[:,0:15])\n",
    "\n",
    "X_train = X_train[y_pred != -1]\n",
    "y_train = y_train[y_pred != -1]"
   ]
  },
  {
   "cell_type": "code",
   "execution_count": 26,
   "id": "9c074663",
   "metadata": {
    "execution": {
     "iopub.execute_input": "2023-03-31T09:25:21.711083Z",
     "iopub.status.busy": "2023-03-31T09:25:21.710650Z",
     "iopub.status.idle": "2023-03-31T09:25:21.718788Z",
     "shell.execute_reply": "2023-03-31T09:25:21.717559Z"
    },
    "papermill": {
     "duration": 0.0384,
     "end_time": "2023-03-31T09:25:21.721177",
     "exception": false,
     "start_time": "2023-03-31T09:25:21.682777",
     "status": "completed"
    },
    "tags": []
   },
   "outputs": [
    {
     "data": {
      "text/plain": [
       "((9280, 39), (9280, 1))"
      ]
     },
     "execution_count": 26,
     "metadata": {},
     "output_type": "execute_result"
    }
   ],
   "source": [
    "# Shape after removing outlier\n",
    "\n",
    "X_train.shape, y_train.shape"
   ]
  },
  {
   "cell_type": "code",
   "execution_count": 27,
   "id": "1d5ecc3d",
   "metadata": {
    "execution": {
     "iopub.execute_input": "2023-03-31T09:25:21.777264Z",
     "iopub.status.busy": "2023-03-31T09:25:21.776559Z",
     "iopub.status.idle": "2023-03-31T09:25:22.235172Z",
     "shell.execute_reply": "2023-03-31T09:25:22.234243Z"
    },
    "papermill": {
     "duration": 0.488924,
     "end_time": "2023-03-31T09:25:22.237341",
     "exception": false,
     "start_time": "2023-03-31T09:25:21.748417",
     "status": "completed"
    },
    "tags": []
   },
   "outputs": [
    {
     "data": {
      "image/png": "[encoded data removed]",
      "text/plain": [
       "<Figure size 432x288 with 1 Axes>"
      ]
     },
     "metadata": {
      "needs_background": "light"
     },
     "output_type": "display_data"
    }
   ],
   "source": [
    "X_train.iloc[:,0:15].boxplot()\n",
    "plt.show()"
   ]
  },
  {
   "cell_type": "code",
   "execution_count": 28,
   "id": "18fc478d",
   "metadata": {
    "execution": {
     "iopub.execute_input": "2023-03-31T09:25:22.293119Z",
     "iopub.status.busy": "2023-03-31T09:25:22.291932Z",
     "iopub.status.idle": "2023-03-31T09:25:22.297889Z",
     "shell.execute_reply": "2023-03-31T09:25:22.296682Z"
    },
    "papermill": {
     "duration": 0.036582,
     "end_time": "2023-03-31T09:25:22.300506",
     "exception": false,
     "start_time": "2023-03-31T09:25:22.263924",
     "status": "completed"
    },
    "tags": []
   },
   "outputs": [],
   "source": [
    "# Defining shuffle split\n",
    "\n",
    "cv = ShuffleSplit(n_splits = 10, test_size = 0.2, random_state = 0)"
   ]
  },
  {
   "cell_type": "markdown",
   "id": "7b360f08",
   "metadata": {
    "papermill": {
     "duration": 0.026273,
     "end_time": "2023-03-31T09:25:22.353548",
     "exception": false,
     "start_time": "2023-03-31T09:25:22.327275",
     "status": "completed"
    },
    "tags": []
   },
   "source": [
    "# Applying Models"
   ]
  },
  {
   "cell_type": "code",
   "execution_count": 29,
   "id": "cac04f6d",
   "metadata": {
    "execution": {
     "iopub.execute_input": "2023-03-31T09:25:22.409634Z",
     "iopub.status.busy": "2023-03-31T09:25:22.409226Z",
     "iopub.status.idle": "2023-03-31T09:25:22.413905Z",
     "shell.execute_reply": "2023-03-31T09:25:22.412701Z"
    },
    "papermill": {
     "duration": 0.035394,
     "end_time": "2023-03-31T09:25:22.416417",
     "exception": false,
     "start_time": "2023-03-31T09:25:22.381023",
     "status": "completed"
    },
    "tags": []
   },
   "outputs": [],
   "source": [
    "model_score = {}"
   ]
  },
  {
   "cell_type": "markdown",
   "id": "4b0c8ba7",
   "metadata": {
    "papermill": {
     "duration": 0.027067,
     "end_time": "2023-03-31T09:25:22.470116",
     "exception": false,
     "start_time": "2023-03-31T09:25:22.443049",
     "status": "completed"
    },
    "tags": []
   },
   "source": [
    "# Baseline model\n",
    "#### Creating a baseline model using LogisticRegression"
   ]
  },
  {
   "cell_type": "code",
   "execution_count": 30,
   "id": "1cf7de91",
   "metadata": {
    "execution": {
     "iopub.execute_input": "2023-03-31T09:25:22.526120Z",
     "iopub.status.busy": "2023-03-31T09:25:22.525683Z",
     "iopub.status.idle": "2023-03-31T09:25:22.838518Z",
     "shell.execute_reply": "2023-03-31T09:25:22.836860Z"
    },
    "papermill": {
     "duration": 0.345897,
     "end_time": "2023-03-31T09:25:22.843407",
     "exception": false,
     "start_time": "2023-03-31T09:25:22.497510",
     "status": "completed"
    },
    "tags": []
   },
   "outputs": [
    {
     "name": "stdout",
     "output_type": "stream",
     "text": [
      "\n",
      "\n",
      "Accuracy of Logistic Regression with default parameter value: 0.6549773755656109\n",
      "Precision of Logistic Regression with default parameter value: 0.7116935483870968\n",
      "f1 score of Logistic Regression with default parameter value: 0.5428520349612223\n",
      "\n",
      "\n",
      "Classification Report\n",
      "---------------------\n",
      "              precision    recall  f1-score   support\n",
      "\n",
      "           0       0.65      0.95      0.77      2685\n",
      "           1       0.71      0.20      0.32      1735\n",
      "\n",
      "    accuracy                           0.65      4420\n",
      "   macro avg       0.68      0.58      0.54      4420\n",
      "weighted avg       0.67      0.65      0.59      4420\n",
      "\n"
     ]
    }
   ],
   "source": [
    "lr = LogisticRegression()\n",
    "lr.fit(X_train, y_train)\n",
    "y_pred = lr.predict(X_test)\n",
    "\n",
    "accuracy = accuracy_score(y_test, y_pred)\n",
    "precision = precision_score(y_test, y_pred)\n",
    "recall = recall_score(y_test, y_pred)\n",
    "f1 = f1_score(y_test, y_pred, average = 'macro')\n",
    "\n",
    "print('\\n')\n",
    "print(\"Accuracy of Logistic Regression with default parameter value:\", accuracy)\n",
    "print(\"Precision of Logistic Regression with default parameter value:\", precision)\n",
    "print('f1 score of Logistic Regression with default parameter value:', f1)\n",
    "model_score['Baseline model(logistic regression)'] = f1.round(3)\n",
    "print('\\n')\n",
    "print('Classification Report')\n",
    "print('---------------------')\n",
    "print(classification_report(y_test, y_pred))"
   ]
  },
  {
   "cell_type": "markdown",
   "id": "3b8f4f08",
   "metadata": {
    "papermill": {
     "duration": 0.028542,
     "end_time": "2023-03-31T09:25:22.941348",
     "exception": false,
     "start_time": "2023-03-31T09:25:22.912806",
     "status": "completed"
    },
    "tags": []
   },
   "source": [
    "### Hypertuning Baseline Model"
   ]
  },
  {
   "cell_type": "code",
   "execution_count": 31,
   "id": "f15506f4",
   "metadata": {
    "execution": {
     "iopub.execute_input": "2023-03-31T09:25:22.996930Z",
     "iopub.status.busy": "2023-03-31T09:25:22.996491Z",
     "iopub.status.idle": "2023-03-31T09:25:32.811435Z",
     "shell.execute_reply": "2023-03-31T09:25:32.809827Z"
    },
    "papermill": {
     "duration": 9.847857,
     "end_time": "2023-03-31T09:25:32.816032",
     "exception": false,
     "start_time": "2023-03-31T09:25:22.968175",
     "status": "completed"
    },
    "tags": []
   },
   "outputs": [
    {
     "data": {
      "text/plain": [
       "GridSearchCV(cv=ShuffleSplit(n_splits=10, random_state=0, test_size=0.2, train_size=None),\n",
       "             estimator=LogisticRegression(),\n",
       "             param_grid={'C': [0.12, 0.25, 0.75, 1],\n",
       "                         'penalty': ['l1', 'l2', 'elasticnet']})"
      ]
     },
     "execution_count": 31,
     "metadata": {},
     "output_type": "execute_result"
    }
   ],
   "source": [
    "param_grid = {'penalty':['l1', 'l2', 'elasticnet'],\n",
    "              'C':[0.12, 0.25, 0.75, 1]}\n",
    "grid_search_lr = GridSearchCV(lr,\n",
    "                              param_grid=param_grid,\n",
    "                              cv = cv)\n",
    "grid_search_lr.fit(X_train,y_train)"
   ]
  },
  {
   "cell_type": "code",
   "execution_count": 32,
   "id": "f1e1cadc",
   "metadata": {
    "execution": {
     "iopub.execute_input": "2023-03-31T09:25:32.934793Z",
     "iopub.status.busy": "2023-03-31T09:25:32.934356Z",
     "iopub.status.idle": "2023-03-31T09:25:32.941926Z",
     "shell.execute_reply": "2023-03-31T09:25:32.940776Z"
    },
    "papermill": {
     "duration": 0.058811,
     "end_time": "2023-03-31T09:25:32.944074",
     "exception": false,
     "start_time": "2023-03-31T09:25:32.885263",
     "status": "completed"
    },
    "tags": []
   },
   "outputs": [
    {
     "data": {
      "text/plain": [
       "LogisticRegression(C=0.75)"
      ]
     },
     "execution_count": 32,
     "metadata": {},
     "output_type": "execute_result"
    }
   ],
   "source": [
    "model_lr = grid_search_lr.best_estimator_\n",
    "model_lr"
   ]
  },
  {
   "cell_type": "code",
   "execution_count": 33,
   "id": "19a622d7",
   "metadata": {
    "execution": {
     "iopub.execute_input": "2023-03-31T09:25:32.999929Z",
     "iopub.status.busy": "2023-03-31T09:25:32.999518Z",
     "iopub.status.idle": "2023-03-31T09:25:33.327525Z",
     "shell.execute_reply": "2023-03-31T09:25:33.325742Z"
    },
    "papermill": {
     "duration": 0.36203,
     "end_time": "2023-03-31T09:25:33.332819",
     "exception": false,
     "start_time": "2023-03-31T09:25:32.970789",
     "status": "completed"
    },
    "tags": []
   },
   "outputs": [
    {
     "name": "stdout",
     "output_type": "stream",
     "text": [
      "\n",
      "\n",
      "Accuracy of Logistic Regression with hypertuning: 0.6545248868778281\n",
      "Precision of Logistic Regression with hypertuning: 0.7096774193548387\n",
      "f1 score of Logistic Regression with hypertuning: 0.5422524966464173\n",
      "\n",
      "\n",
      "Classification Report\n",
      "---------------------\n",
      "              precision    recall  f1-score   support\n",
      "\n",
      "           0       0.65      0.95      0.77      2685\n",
      "           1       0.71      0.20      0.32      1735\n",
      "\n",
      "    accuracy                           0.65      4420\n",
      "   macro avg       0.68      0.57      0.54      4420\n",
      "weighted avg       0.67      0.65      0.59      4420\n",
      "\n"
     ]
    }
   ],
   "source": [
    "model_lr.fit(X_train, y_train)\n",
    "y_pred = model_lr.predict(X_test)\n",
    "accuracy = accuracy_score(y_test, y_pred)\n",
    "precision = precision_score(y_test, y_pred)\n",
    "recall = recall_score(y_test, y_pred)\n",
    "f1 = f1_score(y_test, y_pred, average = 'macro')\n",
    "\n",
    "print('\\n')\n",
    "print(\"Accuracy of Logistic Regression with hypertuning:\", accuracy)\n",
    "print(\"Precision of Logistic Regression with hypertuning:\", precision)\n",
    "print('f1 score of Logistic Regression with hypertuning:', f1)\n",
    "model_score['Hypertuned Baseline model'] = f1.round(3)\n",
    "print('\\n')\n",
    "print('Classification Report')\n",
    "print('---------------------')\n",
    "print(classification_report(y_test, y_pred))"
   ]
  },
  {
   "cell_type": "markdown",
   "id": "70cd7725",
   "metadata": {
    "papermill": {
     "duration": 0.027271,
     "end_time": "2023-03-31T09:25:33.431031",
     "exception": false,
     "start_time": "2023-03-31T09:25:33.403760",
     "status": "completed"
    },
    "tags": []
   },
   "source": [
    "# KNN"
   ]
  },
  {
   "cell_type": "code",
   "execution_count": 34,
   "id": "abc25ad9",
   "metadata": {
    "execution": {
     "iopub.execute_input": "2023-03-31T09:25:33.487576Z",
     "iopub.status.busy": "2023-03-31T09:25:33.487143Z",
     "iopub.status.idle": "2023-03-31T09:25:34.586798Z",
     "shell.execute_reply": "2023-03-31T09:25:34.585570Z"
    },
    "papermill": {
     "duration": 1.131091,
     "end_time": "2023-03-31T09:25:34.589357",
     "exception": false,
     "start_time": "2023-03-31T09:25:33.458266",
     "status": "completed"
    },
    "tags": []
   },
   "outputs": [
    {
     "name": "stdout",
     "output_type": "stream",
     "text": [
      "\n",
      "\n",
      "Accuracy of KNN: 0.6565610859728507\n",
      "Precision of KNN: 0.6940966010733453\n",
      "f1 score of KNN: 0.5531882078702102\n",
      "\n",
      "\n",
      "Classification Report\n",
      "---------------------\n",
      "              precision    recall  f1-score   support\n",
      "\n",
      "           0       0.65      0.94      0.77      2685\n",
      "           1       0.69      0.22      0.34      1735\n",
      "\n",
      "    accuracy                           0.66      4420\n",
      "   macro avg       0.67      0.58      0.55      4420\n",
      "weighted avg       0.67      0.66      0.60      4420\n",
      "\n"
     ]
    }
   ],
   "source": [
    "knn = KNeighborsClassifier(n_neighbors = 60)\n",
    "knn.fit(X_train, y_train)\n",
    "\n",
    "y_pred = knn.predict(X_test)\n",
    "\n",
    "accuracy = accuracy_score(y_test, y_pred)\n",
    "precision = precision_score(y_test, y_pred)\n",
    "recall = recall_score(y_test, y_pred)\n",
    "f1 = f1_score(y_test, y_pred, average = 'macro')\n",
    "print('\\n')\n",
    "print(\"Accuracy of KNN:\", accuracy)\n",
    "print(\"Precision of KNN:\", precision)\n",
    "print('f1 score of KNN:', f1)\n",
    "model_score['KNN'] = f1.round(3)\n",
    "print('\\n')\n",
    "print('Classification Report')\n",
    "print('---------------------')\n",
    "print(classification_report(y_test, y_pred))"
   ]
  },
  {
   "cell_type": "markdown",
   "id": "08c72664",
   "metadata": {
    "papermill": {
     "duration": 0.026843,
     "end_time": "2023-03-31T09:25:34.643278",
     "exception": false,
     "start_time": "2023-03-31T09:25:34.616435",
     "status": "completed"
    },
    "tags": []
   },
   "source": [
    "### Hypertuning KNN"
   ]
  },
  {
   "cell_type": "code",
   "execution_count": 35,
   "id": "bd2d9290",
   "metadata": {
    "execution": {
     "iopub.execute_input": "2023-03-31T09:25:34.700651Z",
     "iopub.status.busy": "2023-03-31T09:25:34.700221Z",
     "iopub.status.idle": "2023-03-31T09:26:50.835597Z",
     "shell.execute_reply": "2023-03-31T09:26:50.834730Z"
    },
    "papermill": {
     "duration": 76.193647,
     "end_time": "2023-03-31T09:26:50.864326",
     "exception": false,
     "start_time": "2023-03-31T09:25:34.670679",
     "status": "completed"
    },
    "tags": []
   },
   "outputs": [
    {
     "data": {
      "text/plain": [
       "GridSearchCV(cv=ShuffleSplit(n_splits=10, random_state=0, test_size=0.2, train_size=None),\n",
       "             estimator=KNeighborsClassifier(n_neighbors=60),\n",
       "             param_grid={'algorithm': ['auto', 'brute'],\n",
       "                         'n_neighbors': [5, 15, 25, 35, 70],\n",
       "                         'weights': ['uniform', 'distance']})"
      ]
     },
     "execution_count": 35,
     "metadata": {},
     "output_type": "execute_result"
    }
   ],
   "source": [
    "param_grid = {'n_neighbors':[5, 15, 25, 35, 70],\n",
    "              'weights':['uniform', 'distance'],\n",
    "             'algorithm':['auto', 'brute']}\n",
    "grid_search_knn = GridSearchCV(knn,\n",
    "                              param_grid = param_grid,\n",
    "                              cv = cv)\n",
    "grid_search_knn.fit(X_train,y_train)"
   ]
  },
  {
   "cell_type": "code",
   "execution_count": 36,
   "id": "381dc054",
   "metadata": {
    "execution": {
     "iopub.execute_input": "2023-03-31T09:26:50.920319Z",
     "iopub.status.busy": "2023-03-31T09:26:50.919886Z",
     "iopub.status.idle": "2023-03-31T09:26:50.926331Z",
     "shell.execute_reply": "2023-03-31T09:26:50.925538Z"
    },
    "papermill": {
     "duration": 0.037269,
     "end_time": "2023-03-31T09:26:50.928516",
     "exception": false,
     "start_time": "2023-03-31T09:26:50.891247",
     "status": "completed"
    },
    "tags": []
   },
   "outputs": [
    {
     "data": {
      "text/plain": [
       "KNeighborsClassifier(n_neighbors=70)"
      ]
     },
     "execution_count": 36,
     "metadata": {},
     "output_type": "execute_result"
    }
   ],
   "source": [
    "model_knn = grid_search_knn.best_estimator_\n",
    "model_knn"
   ]
  },
  {
   "cell_type": "code",
   "execution_count": 37,
   "id": "7cbaef7a",
   "metadata": {
    "execution": {
     "iopub.execute_input": "2023-03-31T09:26:50.986268Z",
     "iopub.status.busy": "2023-03-31T09:26:50.984971Z",
     "iopub.status.idle": "2023-03-31T09:26:52.038709Z",
     "shell.execute_reply": "2023-03-31T09:26:52.037164Z"
    },
    "papermill": {
     "duration": 1.085194,
     "end_time": "2023-03-31T09:26:52.041499",
     "exception": false,
     "start_time": "2023-03-31T09:26:50.956305",
     "status": "completed"
    },
    "tags": []
   },
   "outputs": [
    {
     "name": "stdout",
     "output_type": "stream",
     "text": [
      "\n",
      "\n",
      "Accuracy of KNN with hypertuning: 0.6572398190045249\n",
      "Precision of KNN with hypertuning: 0.6923076923076923\n",
      "f1 score of KNN with hypertuning: 0.5557017020918307\n",
      "\n",
      "\n",
      "Classification Report\n",
      "---------------------\n",
      "              precision    recall  f1-score   support\n",
      "\n",
      "           0       0.65      0.93      0.77      2685\n",
      "           1       0.69      0.23      0.34      1735\n",
      "\n",
      "    accuracy                           0.66      4420\n",
      "   macro avg       0.67      0.58      0.56      4420\n",
      "weighted avg       0.67      0.66      0.60      4420\n",
      "\n"
     ]
    }
   ],
   "source": [
    "model_knn.fit(X_train, y_train)\n",
    "y_pred = model_knn.predict(X_test)\n",
    "accuracy = accuracy_score(y_test, y_pred)\n",
    "precision = precision_score(y_test, y_pred)\n",
    "recall = recall_score(y_test, y_pred)\n",
    "f1 = f1_score(y_test, y_pred, average = 'macro')\n",
    "\n",
    "print('\\n')\n",
    "print(\"Accuracy of KNN with hypertuning:\", accuracy)\n",
    "print(\"Precision of KNN with hypertuning:\", precision)\n",
    "print('f1 score of KNN with hypertuning:', f1)\n",
    "model_score['Hypertuned KNN'] = f1.round(3)\n",
    "print('\\n')\n",
    "print('Classification Report')\n",
    "print('---------------------')\n",
    "print(classification_report(y_test, y_pred))"
   ]
  },
  {
   "cell_type": "markdown",
   "id": "3210b3bc",
   "metadata": {
    "papermill": {
     "duration": 0.027319,
     "end_time": "2023-03-31T09:26:52.096327",
     "exception": false,
     "start_time": "2023-03-31T09:26:52.069008",
     "status": "completed"
    },
    "tags": []
   },
   "source": [
    "# SVM"
   ]
  },
  {
   "cell_type": "code",
   "execution_count": 38,
   "id": "5e04ea33",
   "metadata": {
    "execution": {
     "iopub.execute_input": "2023-03-31T09:26:52.155392Z",
     "iopub.status.busy": "2023-03-31T09:26:52.154963Z",
     "iopub.status.idle": "2023-03-31T09:27:02.697222Z",
     "shell.execute_reply": "2023-03-31T09:27:02.696051Z"
    },
    "papermill": {
     "duration": 10.575099,
     "end_time": "2023-03-31T09:27:02.700514",
     "exception": false,
     "start_time": "2023-03-31T09:26:52.125415",
     "status": "completed"
    },
    "tags": []
   },
   "outputs": [
    {
     "name": "stdout",
     "output_type": "stream",
     "text": [
      "\n",
      "\n",
      "Accuracy of SVM: 0.6592760180995475\n",
      "Precision of SVM: 0.7026548672566372\n",
      "f1 score of SVM: 0.5574710809732748\n",
      "\n",
      "\n",
      "Classification Report\n",
      "---------------------\n",
      "              precision    recall  f1-score   support\n",
      "\n",
      "           0       0.65      0.94      0.77      2685\n",
      "           1       0.70      0.23      0.35      1735\n",
      "\n",
      "    accuracy                           0.66      4420\n",
      "   macro avg       0.68      0.58      0.56      4420\n",
      "weighted avg       0.67      0.66      0.60      4420\n",
      "\n"
     ]
    }
   ],
   "source": [
    "svm = SVC(C = 30)\n",
    "svm.fit(X_train, y_train)\n",
    "\n",
    "y_pred = svm.predict(X_test)\n",
    "\n",
    "accuracy = accuracy_score(y_test, y_pred)\n",
    "precision = precision_score(y_test, y_pred)\n",
    "recall = recall_score(y_test, y_pred)\n",
    "f1 = f1_score(y_test, y_pred, average = 'macro')\n",
    "print('\\n')\n",
    "print(\"Accuracy of SVM:\", accuracy)\n",
    "print(\"Precision of SVM:\", precision)\n",
    "print('f1 score of SVM:', f1)\n",
    "model_score['SVM'] = f1.round(3)\n",
    "print('\\n')\n",
    "print('Classification Report')\n",
    "print('---------------------')\n",
    "print(classification_report(y_test, y_pred))"
   ]
  },
  {
   "cell_type": "markdown",
   "id": "cb571f13",
   "metadata": {
    "papermill": {
     "duration": 0.028177,
     "end_time": "2023-03-31T09:27:02.756839",
     "exception": false,
     "start_time": "2023-03-31T09:27:02.728662",
     "status": "completed"
    },
    "tags": []
   },
   "source": [
    "### Hypertuning SVM"
   ]
  },
  {
   "cell_type": "code",
   "execution_count": 39,
   "id": "e2ef85d5",
   "metadata": {
    "execution": {
     "iopub.execute_input": "2023-03-31T09:27:02.813310Z",
     "iopub.status.busy": "2023-03-31T09:27:02.812920Z",
     "iopub.status.idle": "2023-03-31T09:35:57.446643Z",
     "shell.execute_reply": "2023-03-31T09:35:57.445234Z"
    },
    "papermill": {
     "duration": 534.692938,
     "end_time": "2023-03-31T09:35:57.477233",
     "exception": false,
     "start_time": "2023-03-31T09:27:02.784295",
     "status": "completed"
    },
    "tags": []
   },
   "outputs": [
    {
     "data": {
      "text/plain": [
       "GridSearchCV(cv=ShuffleSplit(n_splits=10, random_state=0, test_size=0.2, train_size=None),\n",
       "             estimator=SVC(C=30),\n",
       "             param_grid={'C': [0.5, 15, 35, 55], 'gamma': ['scale', 'auto']})"
      ]
     },
     "execution_count": 39,
     "metadata": {},
     "output_type": "execute_result"
    }
   ],
   "source": [
    "param_grid = {'C':[0.5, 15, 35, 55],\n",
    "             'gamma':['scale', 'auto']}\n",
    "grid_search_svm = GridSearchCV(svm,\n",
    "                              param_grid = param_grid,\n",
    "                              cv = cv)\n",
    "grid_search_svm.fit(X_train,y_train)"
   ]
  },
  {
   "cell_type": "code",
   "execution_count": 40,
   "id": "a66bc866",
   "metadata": {
    "execution": {
     "iopub.execute_input": "2023-03-31T09:35:57.535264Z",
     "iopub.status.busy": "2023-03-31T09:35:57.534825Z",
     "iopub.status.idle": "2023-03-31T09:35:57.543261Z",
     "shell.execute_reply": "2023-03-31T09:35:57.541975Z"
    },
    "papermill": {
     "duration": 0.040741,
     "end_time": "2023-03-31T09:35:57.545751",
     "exception": false,
     "start_time": "2023-03-31T09:35:57.505010",
     "status": "completed"
    },
    "tags": []
   },
   "outputs": [
    {
     "data": {
      "text/plain": [
       "SVC(C=55)"
      ]
     },
     "execution_count": 40,
     "metadata": {},
     "output_type": "execute_result"
    }
   ],
   "source": [
    "model_svm = grid_search_svm.best_estimator_\n",
    "model_svm"
   ]
  },
  {
   "cell_type": "code",
   "execution_count": 41,
   "id": "dd76735d",
   "metadata": {
    "execution": {
     "iopub.execute_input": "2023-03-31T09:35:57.604393Z",
     "iopub.status.busy": "2023-03-31T09:35:57.603944Z",
     "iopub.status.idle": "2023-03-31T09:36:10.492303Z",
     "shell.execute_reply": "2023-03-31T09:36:10.490723Z"
    },
    "papermill": {
     "duration": 12.921057,
     "end_time": "2023-03-31T09:36:10.495648",
     "exception": false,
     "start_time": "2023-03-31T09:35:57.574591",
     "status": "completed"
    },
    "tags": []
   },
   "outputs": [
    {
     "name": "stdout",
     "output_type": "stream",
     "text": [
      "\n",
      "\n",
      "Accuracy of SVM with hypertuning: 0.6588235294117647\n",
      "Precision of SVM with hypertuning: 0.697391304347826\n",
      "f1 score of SVM with hypertuning: 0.5581259985547887\n",
      "\n",
      "\n",
      "Classification Report\n",
      "---------------------\n",
      "              precision    recall  f1-score   support\n",
      "\n",
      "           0       0.65      0.94      0.77      2685\n",
      "           1       0.70      0.23      0.35      1735\n",
      "\n",
      "    accuracy                           0.66      4420\n",
      "   macro avg       0.68      0.58      0.56      4420\n",
      "weighted avg       0.67      0.66      0.60      4420\n",
      "\n"
     ]
    }
   ],
   "source": [
    "model_svm.fit(X_train, y_train)\n",
    "y_pred = model_svm.predict(X_test)\n",
    "accuracy = accuracy_score(y_test, y_pred)\n",
    "precision = precision_score(y_test, y_pred)\n",
    "recall = recall_score(y_test, y_pred)\n",
    "f1 = f1_score(y_test, y_pred, average = 'macro')\n",
    "\n",
    "print('\\n')\n",
    "print(\"Accuracy of SVM with hypertuning:\", accuracy)\n",
    "print(\"Precision of SVM with hypertuning:\", precision)\n",
    "print('f1 score of SVM with hypertuning:', f1)\n",
    "model_score['Hypertuned SVM'] = f1.round(3)\n",
    "print('\\n')\n",
    "print('Classification Report')\n",
    "print('---------------------')\n",
    "print(classification_report(y_test, y_pred))"
   ]
  },
  {
   "cell_type": "markdown",
   "id": "d75469e9",
   "metadata": {
    "papermill": {
     "duration": 0.029631,
     "end_time": "2023-03-31T09:36:10.554645",
     "exception": false,
     "start_time": "2023-03-31T09:36:10.525014",
     "status": "completed"
    },
    "tags": []
   },
   "source": [
    "# CART"
   ]
  },
  {
   "cell_type": "code",
   "execution_count": 42,
   "id": "2f4d8a7e",
   "metadata": {
    "execution": {
     "iopub.execute_input": "2023-03-31T09:36:10.616803Z",
     "iopub.status.busy": "2023-03-31T09:36:10.616388Z",
     "iopub.status.idle": "2023-03-31T09:36:10.673347Z",
     "shell.execute_reply": "2023-03-31T09:36:10.672174Z"
    },
    "papermill": {
     "duration": 0.091328,
     "end_time": "2023-03-31T09:36:10.676570",
     "exception": false,
     "start_time": "2023-03-31T09:36:10.585242",
     "status": "completed"
    },
    "tags": []
   },
   "outputs": [
    {
     "name": "stdout",
     "output_type": "stream",
     "text": [
      "\n",
      "\n",
      "Accuracy of DecisionTreeClassifier with default parameter value: 0.6622171945701357\n",
      "Precision of DecisionTreeClassifier with default parameter value: 0.6592105263157895\n",
      "f1 score of DecisionTreeClassifier with default parameter value: 0.583149908958974\n",
      "\n",
      "\n",
      "Classification Report\n",
      "---------------------\n",
      "              precision    recall  f1-score   support\n",
      "\n",
      "           0       0.66      0.90      0.76      2685\n",
      "           1       0.66      0.29      0.40      1735\n",
      "\n",
      "    accuracy                           0.66      4420\n",
      "   macro avg       0.66      0.60      0.58      4420\n",
      "weighted avg       0.66      0.66      0.62      4420\n",
      "\n"
     ]
    }
   ],
   "source": [
    "dtc = DecisionTreeClassifier(max_depth = 2, random_state = 0)\n",
    "dtc.fit(X_train, y_train)\n",
    "\n",
    "y_pred = dtc.predict(X_test)\n",
    "\n",
    "accuracy = accuracy_score(y_test, y_pred)\n",
    "precision = precision_score(y_test, y_pred)\n",
    "recall = recall_score(y_test, y_pred)\n",
    "f1 = f1_score(y_test, y_pred, average = 'macro')\n",
    "print('\\n')\n",
    "print(\"Accuracy of DecisionTreeClassifier with default parameter value:\", accuracy)\n",
    "print(\"Precision of DecisionTreeClassifier with default parameter value:\", precision)\n",
    "print('f1 score of DecisionTreeClassifier with default parameter value:', f1)\n",
    "model_score['Decision tree classifier'] = f1.round(3)\n",
    "print('\\n')\n",
    "print('Classification Report')\n",
    "print('---------------------')\n",
    "print(classification_report(y_test, y_pred))"
   ]
  },
  {
   "cell_type": "markdown",
   "id": "66f13d60",
   "metadata": {
    "papermill": {
     "duration": 0.029582,
     "end_time": "2023-03-31T09:36:10.734647",
     "exception": false,
     "start_time": "2023-03-31T09:36:10.705065",
     "status": "completed"
    },
    "tags": []
   },
   "source": [
    "### Hypertuning CART"
   ]
  },
  {
   "cell_type": "code",
   "execution_count": 43,
   "id": "83ab9660",
   "metadata": {
    "execution": {
     "iopub.execute_input": "2023-03-31T09:36:10.795476Z",
     "iopub.status.busy": "2023-03-31T09:36:10.794574Z",
     "iopub.status.idle": "2023-03-31T09:36:11.772842Z",
     "shell.execute_reply": "2023-03-31T09:36:11.771938Z"
    },
    "papermill": {
     "duration": 1.011028,
     "end_time": "2023-03-31T09:36:11.775113",
     "exception": false,
     "start_time": "2023-03-31T09:36:10.764085",
     "status": "completed"
    },
    "tags": []
   },
   "outputs": [
    {
     "data": {
      "text/plain": [
       "GridSearchCV(cv=ShuffleSplit(n_splits=10, random_state=0, test_size=0.2, train_size=None),\n",
       "             estimator=DecisionTreeClassifier(max_depth=2, random_state=0),\n",
       "             param_grid={'criterion': ['gini', 'entropy', 'log_loss'],\n",
       "                         'splitter': ['best', 'random']})"
      ]
     },
     "execution_count": 43,
     "metadata": {},
     "output_type": "execute_result"
    }
   ],
   "source": [
    "param_grid = {'criterion':['gini', 'entropy', 'log_loss'],\n",
    "             'splitter':['best', 'random']}\n",
    "\n",
    "grid_search_dtc = GridSearchCV(dtc,\n",
    "                              param_grid = param_grid,\n",
    "                              cv = cv)\n",
    "grid_search_dtc.fit(X_train, y_train)"
   ]
  },
  {
   "cell_type": "code",
   "execution_count": 44,
   "id": "bac37c15",
   "metadata": {
    "execution": {
     "iopub.execute_input": "2023-03-31T09:36:11.836563Z",
     "iopub.status.busy": "2023-03-31T09:36:11.835163Z",
     "iopub.status.idle": "2023-03-31T09:36:11.841817Z",
     "shell.execute_reply": "2023-03-31T09:36:11.841007Z"
    },
    "papermill": {
     "duration": 0.039966,
     "end_time": "2023-03-31T09:36:11.844051",
     "exception": false,
     "start_time": "2023-03-31T09:36:11.804085",
     "status": "completed"
    },
    "tags": []
   },
   "outputs": [
    {
     "data": {
      "text/plain": [
       "DecisionTreeClassifier(max_depth=2, random_state=0)"
      ]
     },
     "execution_count": 44,
     "metadata": {},
     "output_type": "execute_result"
    }
   ],
   "source": [
    "model_dtc = grid_search_dtc.best_estimator_\n",
    "model_dtc"
   ]
  },
  {
   "cell_type": "code",
   "execution_count": 45,
   "id": "df533737",
   "metadata": {
    "execution": {
     "iopub.execute_input": "2023-03-31T09:36:11.903312Z",
     "iopub.status.busy": "2023-03-31T09:36:11.902693Z",
     "iopub.status.idle": "2023-03-31T09:36:11.931944Z",
     "shell.execute_reply": "2023-03-31T09:36:11.930143Z"
    },
    "papermill": {
     "duration": 0.062363,
     "end_time": "2023-03-31T09:36:11.934970",
     "exception": false,
     "start_time": "2023-03-31T09:36:11.872607",
     "status": "completed"
    },
    "tags": []
   },
   "outputs": [
    {
     "data": {
      "text/plain": [
       "DecisionTreeClassifier(max_depth=2, random_state=0)"
      ]
     },
     "execution_count": 45,
     "metadata": {},
     "output_type": "execute_result"
    }
   ],
   "source": [
    "model_dtc.fit(X_train,y_train)"
   ]
  },
  {
   "cell_type": "code",
   "execution_count": 46,
   "id": "b7723ac2",
   "metadata": {
    "execution": {
     "iopub.execute_input": "2023-03-31T09:36:11.995718Z",
     "iopub.status.busy": "2023-03-31T09:36:11.995280Z",
     "iopub.status.idle": "2023-03-31T09:36:12.029100Z",
     "shell.execute_reply": "2023-03-31T09:36:12.027603Z"
    },
    "papermill": {
     "duration": 0.067466,
     "end_time": "2023-03-31T09:36:12.031788",
     "exception": false,
     "start_time": "2023-03-31T09:36:11.964322",
     "status": "completed"
    },
    "tags": []
   },
   "outputs": [
    {
     "name": "stdout",
     "output_type": "stream",
     "text": [
      "\n",
      "\n",
      "Accuracy of DecisionTreeClassifier with default parameter value: 0.6622171945701357\n",
      "Precision of DecisionTreeClassifier with default parameter value: 0.6592105263157895\n",
      "f1 score of DecisionTreeClassifier with default parameter value: 0.583149908958974\n",
      "\n",
      "\n",
      "Classification Report\n",
      "---------------------\n",
      "              precision    recall  f1-score   support\n",
      "\n",
      "           0       0.66      0.90      0.76      2685\n",
      "           1       0.66      0.29      0.40      1735\n",
      "\n",
      "    accuracy                           0.66      4420\n",
      "   macro avg       0.66      0.60      0.58      4420\n",
      "weighted avg       0.66      0.66      0.62      4420\n",
      "\n"
     ]
    }
   ],
   "source": [
    "y_pred = model_dtc.predict(X_test)\n",
    "\n",
    "accuracy = accuracy_score(y_test, y_pred)\n",
    "precision = precision_score(y_test, y_pred)\n",
    "recall = recall_score(y_test, y_pred)\n",
    "f1 = f1_score(y_test, y_pred, average = 'macro')\n",
    "print('\\n')\n",
    "print(\"Accuracy of DecisionTreeClassifier with default parameter value:\", accuracy)\n",
    "print(\"Precision of DecisionTreeClassifier with default parameter value:\", precision)\n",
    "print('f1 score of DecisionTreeClassifier with default parameter value:', f1)\n",
    "model_score['Hypertuned Decision tree classifier'] = f1.round(3)\n",
    "print('\\n')\n",
    "print('Classification Report')\n",
    "print('---------------------')\n",
    "print(classification_report(y_test, y_pred))"
   ]
  },
  {
   "cell_type": "markdown",
   "id": "3c8bec78",
   "metadata": {
    "papermill": {
     "duration": 0.028093,
     "end_time": "2023-03-31T09:36:12.089516",
     "exception": false,
     "start_time": "2023-03-31T09:36:12.061423",
     "status": "completed"
    },
    "tags": []
   },
   "source": [
    "# Bagging"
   ]
  },
  {
   "cell_type": "code",
   "execution_count": 47,
   "id": "cf8f33a3",
   "metadata": {
    "execution": {
     "iopub.execute_input": "2023-03-31T09:36:12.149067Z",
     "iopub.status.busy": "2023-03-31T09:36:12.148666Z",
     "iopub.status.idle": "2023-03-31T09:36:12.695617Z",
     "shell.execute_reply": "2023-03-31T09:36:12.693277Z"
    },
    "papermill": {
     "duration": 0.580141,
     "end_time": "2023-03-31T09:36:12.698954",
     "exception": false,
     "start_time": "2023-03-31T09:36:12.118813",
     "status": "completed"
    },
    "tags": []
   },
   "outputs": [
    {
     "name": "stdout",
     "output_type": "stream",
     "text": [
      "\n",
      "\n",
      "Accuracy of BaggingClassifier: 0.6642533936651583\n",
      "Precision of BaggingClassifier: 0.6740638002773925\n",
      "f1 score of BaggingClassifier: 0.5816546659809132\n",
      "\n",
      "\n",
      "Classification Report\n",
      "---------------------\n",
      "              precision    recall  f1-score   support\n",
      "\n",
      "           0       0.66      0.91      0.77      2685\n",
      "           1       0.67      0.28      0.40      1735\n",
      "\n",
      "    accuracy                           0.66      4420\n",
      "   macro avg       0.67      0.60      0.58      4420\n",
      "weighted avg       0.67      0.66      0.62      4420\n",
      "\n"
     ]
    }
   ],
   "source": [
    "bc = BaggingClassifier(base_estimator = model_dtc, n_estimators = 32, random_state = 0)\n",
    "bc.fit(X_train, y_train)\n",
    "\n",
    "y_pred = bc.predict(X_test)\n",
    "\n",
    "accuracy = accuracy_score(y_test, y_pred)\n",
    "precision = precision_score(y_test, y_pred)\n",
    "recall = recall_score(y_test, y_pred)\n",
    "f1 = f1_score(y_test, y_pred, average = 'macro')\n",
    "print('\\n')\n",
    "print(\"Accuracy of BaggingClassifier:\", accuracy)\n",
    "print(\"Precision of BaggingClassifier:\", precision)\n",
    "print('f1 score of BaggingClassifier:', f1)\n",
    "model_score['BaggingClassifier'] = f1.round(3)\n",
    "print('\\n')\n",
    "print('Classification Report')\n",
    "print('---------------------')\n",
    "print(classification_report(y_test, y_pred))"
   ]
  },
  {
   "cell_type": "markdown",
   "id": "53402363",
   "metadata": {
    "papermill": {
     "duration": 0.029835,
     "end_time": "2023-03-31T09:36:12.757699",
     "exception": false,
     "start_time": "2023-03-31T09:36:12.727864",
     "status": "completed"
    },
    "tags": []
   },
   "source": [
    "### Hypertuning BaggingClassifier"
   ]
  },
  {
   "cell_type": "code",
   "execution_count": 48,
   "id": "152b5aea",
   "metadata": {
    "execution": {
     "iopub.execute_input": "2023-03-31T09:36:12.817960Z",
     "iopub.status.busy": "2023-03-31T09:36:12.817039Z",
     "iopub.status.idle": "2023-03-31T09:36:37.920002Z",
     "shell.execute_reply": "2023-03-31T09:36:37.918742Z"
    },
    "papermill": {
     "duration": 25.135712,
     "end_time": "2023-03-31T09:36:37.922752",
     "exception": false,
     "start_time": "2023-03-31T09:36:12.787040",
     "status": "completed"
    },
    "tags": []
   },
   "outputs": [
    {
     "data": {
      "text/plain": [
       "GridSearchCV(cv=ShuffleSplit(n_splits=10, random_state=0, test_size=0.2, train_size=None),\n",
       "             estimator=BaggingClassifier(base_estimator=DecisionTreeClassifier(max_depth=2,\n",
       "                                                                               random_state=0),\n",
       "                                         n_estimators=32, random_state=0),\n",
       "             param_grid={'max_features': [0.5, 0.7, 0.9],\n",
       "                         'max_samples': [0.5, 0.6, 0.7]})"
      ]
     },
     "execution_count": 48,
     "metadata": {},
     "output_type": "execute_result"
    }
   ],
   "source": [
    "param_grid = {'max_samples': [0.5, 0.6, 0.7],\n",
    "             'max_features': [0.5, 0.7, 0.9]}\n",
    "\n",
    "grid_search_bc = GridSearchCV(bc,\n",
    "                             param_grid = param_grid,\n",
    "                             cv = cv)\n",
    "\n",
    "grid_search_bc.fit(X_train, y_train)"
   ]
  },
  {
   "cell_type": "code",
   "execution_count": 49,
   "id": "820a30ab",
   "metadata": {
    "execution": {
     "iopub.execute_input": "2023-03-31T09:36:37.983460Z",
     "iopub.status.busy": "2023-03-31T09:36:37.983033Z",
     "iopub.status.idle": "2023-03-31T09:36:37.992518Z",
     "shell.execute_reply": "2023-03-31T09:36:37.991226Z"
    },
    "papermill": {
     "duration": 0.043318,
     "end_time": "2023-03-31T09:36:37.995043",
     "exception": false,
     "start_time": "2023-03-31T09:36:37.951725",
     "status": "completed"
    },
    "tags": []
   },
   "outputs": [
    {
     "data": {
      "text/plain": [
       "BaggingClassifier(base_estimator=DecisionTreeClassifier(max_depth=2,\n",
       "                                                        random_state=0),\n",
       "                  max_features=0.7, max_samples=0.7, n_estimators=32,\n",
       "                  random_state=0)"
      ]
     },
     "execution_count": 49,
     "metadata": {},
     "output_type": "execute_result"
    }
   ],
   "source": [
    "model_bc = grid_search_bc.best_estimator_\n",
    "model_bc"
   ]
  },
  {
   "cell_type": "code",
   "execution_count": 50,
   "id": "2fd4cbec",
   "metadata": {
    "execution": {
     "iopub.execute_input": "2023-03-31T09:36:38.055632Z",
     "iopub.status.busy": "2023-03-31T09:36:38.054930Z",
     "iopub.status.idle": "2023-03-31T09:36:38.444914Z",
     "shell.execute_reply": "2023-03-31T09:36:38.443631Z"
    },
    "papermill": {
     "duration": 0.424121,
     "end_time": "2023-03-31T09:36:38.448230",
     "exception": false,
     "start_time": "2023-03-31T09:36:38.024109",
     "status": "completed"
    },
    "tags": []
   },
   "outputs": [
    {
     "name": "stdout",
     "output_type": "stream",
     "text": [
      "\n",
      "\n",
      "Accuracy of DecisionTreeClassifier with default parameter value: 0.6658371040723982\n",
      "Precision of DecisionTreeClassifier with default parameter value: 0.6791666666666667\n",
      "f1 score of DecisionTreeClassifier with default parameter value: 0.5835236289228032\n",
      "\n",
      "\n",
      "Classification Report\n",
      "---------------------\n",
      "              precision    recall  f1-score   support\n",
      "\n",
      "           0       0.66      0.91      0.77      2685\n",
      "           1       0.68      0.28      0.40      1735\n",
      "\n",
      "    accuracy                           0.67      4420\n",
      "   macro avg       0.67      0.60      0.58      4420\n",
      "weighted avg       0.67      0.67      0.62      4420\n",
      "\n"
     ]
    }
   ],
   "source": [
    "model_bc.fit(X_train, y_train)\n",
    "y_pred = model_bc.predict(X_test)\n",
    "\n",
    "accuracy = accuracy_score(y_test, y_pred)\n",
    "precision = precision_score(y_test, y_pred)\n",
    "recall = recall_score(y_test, y_pred)\n",
    "f1 = f1_score(y_test, y_pred, average = 'macro')\n",
    "print('\\n')\n",
    "print(\"Accuracy of DecisionTreeClassifier with default parameter value:\", accuracy)\n",
    "print(\"Precision of DecisionTreeClassifier with default parameter value:\", precision)\n",
    "print('f1 score of DecisionTreeClassifier with default parameter value:', f1)\n",
    "model_score['Hypertuned BaggingClassifier'] = f1.round(3)\n",
    "print('\\n')\n",
    "print('Classification Report')\n",
    "print('---------------------')\n",
    "print(classification_report(y_test, y_pred))"
   ]
  },
  {
   "cell_type": "markdown",
   "id": "5bd9603b",
   "metadata": {
    "papermill": {
     "duration": 0.029707,
     "end_time": "2023-03-31T09:36:38.507441",
     "exception": false,
     "start_time": "2023-03-31T09:36:38.477734",
     "status": "completed"
    },
    "tags": []
   },
   "source": [
    "# Boosting"
   ]
  },
  {
   "cell_type": "markdown",
   "id": "9f9adc2c",
   "metadata": {
    "papermill": {
     "duration": 0.029504,
     "end_time": "2023-03-31T09:36:38.566175",
     "exception": false,
     "start_time": "2023-03-31T09:36:38.536671",
     "status": "completed"
    },
    "tags": []
   },
   "source": [
    "### AdaBoostClassifier"
   ]
  },
  {
   "cell_type": "code",
   "execution_count": 51,
   "id": "dbc567ba",
   "metadata": {
    "execution": {
     "iopub.execute_input": "2023-03-31T09:36:38.627274Z",
     "iopub.status.busy": "2023-03-31T09:36:38.626874Z",
     "iopub.status.idle": "2023-03-31T09:36:40.960091Z",
     "shell.execute_reply": "2023-03-31T09:36:40.958879Z"
    },
    "papermill": {
     "duration": 2.366418,
     "end_time": "2023-03-31T09:36:40.962871",
     "exception": false,
     "start_time": "2023-03-31T09:36:38.596453",
     "status": "completed"
    },
    "tags": []
   },
   "outputs": [
    {
     "name": "stdout",
     "output_type": "stream",
     "text": [
      "\n",
      "\n",
      "Accuracy of AdaBoostClassifier: 0.6361990950226244\n",
      "Precision of AdaBoostClassifier: 0.5779141104294478\n",
      "f1 score of AdaBoostClassifier: 0.5568839427662957\n",
      "\n",
      "\n",
      "Classification Report\n",
      "---------------------\n",
      "              precision    recall  f1-score   support\n",
      "\n",
      "           0       0.65      0.87      0.74      2685\n",
      "           1       0.58      0.27      0.37      1735\n",
      "\n",
      "    accuracy                           0.64      4420\n",
      "   macro avg       0.61      0.57      0.56      4420\n",
      "weighted avg       0.62      0.64      0.60      4420\n",
      "\n"
     ]
    }
   ],
   "source": [
    "abc = AdaBoostClassifier(base_estimator = model_dtc, n_estimators = 100, random_state = 0)\n",
    "abc.fit(X_train, y_train)\n",
    "\n",
    "y_pred = abc.predict(X_test)\n",
    "\n",
    "accuracy = accuracy_score(y_test, y_pred)\n",
    "precision = precision_score(y_test, y_pred)\n",
    "recall = recall_score(y_test, y_pred)\n",
    "f1 = f1_score(y_test, y_pred, average = 'macro')\n",
    "print('\\n')\n",
    "print(\"Accuracy of AdaBoostClassifier:\", accuracy)\n",
    "print(\"Precision of AdaBoostClassifier:\", precision)\n",
    "print('f1 score of AdaBoostClassifier:', f1)\n",
    "model_score['AdaBoostClassifier'] = f1.round(3)\n",
    "print('\\n')\n",
    "print('Classification Report')\n",
    "print('---------------------')\n",
    "print(classification_report(y_test, y_pred))"
   ]
  },
  {
   "cell_type": "markdown",
   "id": "978c3fb9",
   "metadata": {
    "papermill": {
     "duration": 0.028691,
     "end_time": "2023-03-31T09:36:41.020736",
     "exception": false,
     "start_time": "2023-03-31T09:36:40.992045",
     "status": "completed"
    },
    "tags": []
   },
   "source": [
    "#### Hypertuning AdaBoostClassifier"
   ]
  },
  {
   "cell_type": "code",
   "execution_count": 52,
   "id": "c9fa5820",
   "metadata": {
    "execution": {
     "iopub.execute_input": "2023-03-31T09:36:41.080736Z",
     "iopub.status.busy": "2023-03-31T09:36:41.080023Z",
     "iopub.status.idle": "2023-03-31T09:40:09.841316Z",
     "shell.execute_reply": "2023-03-31T09:40:09.839944Z"
    },
    "papermill": {
     "duration": 208.823275,
     "end_time": "2023-03-31T09:40:09.872903",
     "exception": false,
     "start_time": "2023-03-31T09:36:41.049628",
     "status": "completed"
    },
    "tags": []
   },
   "outputs": [
    {
     "data": {
      "text/plain": [
       "GridSearchCV(cv=ShuffleSplit(n_splits=10, random_state=0, test_size=0.2, train_size=None),\n",
       "             estimator=AdaBoostClassifier(base_estimator=DecisionTreeClassifier(max_depth=2,\n",
       "                                                                                random_state=0),\n",
       "                                          n_estimators=100, random_state=0),\n",
       "             param_grid={'learning_rate': [0.01, 0.1, 1],\n",
       "                         'n_estimators': [30, 50, 100, 200]})"
      ]
     },
     "execution_count": 52,
     "metadata": {},
     "output_type": "execute_result"
    }
   ],
   "source": [
    "param_grid = {'n_estimators': [30, 50, 100, 200],\n",
    "              'learning_rate': [0.01, 0.1, 1]}\n",
    "\n",
    "grid_search_abc = GridSearchCV(abc, \n",
    "                              param_grid = param_grid,\n",
    "                              cv = cv)\n",
    "grid_search_abc.fit(X_train, y_train)"
   ]
  },
  {
   "cell_type": "code",
   "execution_count": 53,
   "id": "9ace4a40",
   "metadata": {
    "execution": {
     "iopub.execute_input": "2023-03-31T09:40:09.933599Z",
     "iopub.status.busy": "2023-03-31T09:40:09.933160Z",
     "iopub.status.idle": "2023-03-31T09:40:09.942134Z",
     "shell.execute_reply": "2023-03-31T09:40:09.940622Z"
    },
    "papermill": {
     "duration": 0.042727,
     "end_time": "2023-03-31T09:40:09.944661",
     "exception": false,
     "start_time": "2023-03-31T09:40:09.901934",
     "status": "completed"
    },
    "tags": []
   },
   "outputs": [
    {
     "data": {
      "text/plain": [
       "AdaBoostClassifier(base_estimator=DecisionTreeClassifier(max_depth=2,\n",
       "                                                         random_state=0),\n",
       "                   learning_rate=0.1, random_state=0)"
      ]
     },
     "execution_count": 53,
     "metadata": {},
     "output_type": "execute_result"
    }
   ],
   "source": [
    "model_abc = grid_search_abc.best_estimator_\n",
    "model_abc"
   ]
  },
  {
   "cell_type": "code",
   "execution_count": 54,
   "id": "b4582b17",
   "metadata": {
    "execution": {
     "iopub.execute_input": "2023-03-31T09:40:10.005310Z",
     "iopub.status.busy": "2023-03-31T09:40:10.004874Z",
     "iopub.status.idle": "2023-03-31T09:40:11.200092Z",
     "shell.execute_reply": "2023-03-31T09:40:11.198658Z"
    },
    "papermill": {
     "duration": 1.229244,
     "end_time": "2023-03-31T09:40:11.203323",
     "exception": false,
     "start_time": "2023-03-31T09:40:09.974079",
     "status": "completed"
    },
    "tags": []
   },
   "outputs": [
    {
     "name": "stdout",
     "output_type": "stream",
     "text": [
      "\n",
      "\n",
      "Accuracy of AdaBoostClassifier with hypertuning: 0.6601809954751131\n",
      "Precision of AdaBoostClassifier with hypertuning: 0.6736214605067065\n",
      "f1 score of AdaBoostClassifier with hypertuning: 0.5711400185682307\n",
      "\n",
      "\n",
      "Classification Report\n",
      "---------------------\n",
      "              precision    recall  f1-score   support\n",
      "\n",
      "           0       0.66      0.92      0.77      2685\n",
      "           1       0.67      0.26      0.38      1735\n",
      "\n",
      "    accuracy                           0.66      4420\n",
      "   macro avg       0.67      0.59      0.57      4420\n",
      "weighted avg       0.66      0.66      0.61      4420\n",
      "\n"
     ]
    }
   ],
   "source": [
    "model_abc.fit(X_train, y_train)\n",
    "y_pred = model_abc.predict(X_test)\n",
    "\n",
    "accuracy = accuracy_score(y_test, y_pred)\n",
    "precision = precision_score(y_test, y_pred)\n",
    "recall = recall_score(y_test, y_pred)\n",
    "f1 = f1_score(y_test, y_pred, average = 'macro')\n",
    "print('\\n')\n",
    "print(\"Accuracy of AdaBoostClassifier with hypertuning:\", accuracy)\n",
    "print(\"Precision of AdaBoostClassifier with hypertuning:\", precision)\n",
    "print('f1 score of AdaBoostClassifier with hypertuning:', f1)\n",
    "model_score['Hypertuned AdaBoostClassifier'] = f1.round(3)\n",
    "print('\\n')\n",
    "print('Classification Report')\n",
    "print('---------------------')\n",
    "print(classification_report(y_test, y_pred))"
   ]
  },
  {
   "cell_type": "markdown",
   "id": "ba4172ba",
   "metadata": {
    "papermill": {
     "duration": 0.029153,
     "end_time": "2023-03-31T09:40:11.262128",
     "exception": false,
     "start_time": "2023-03-31T09:40:11.232975",
     "status": "completed"
    },
    "tags": []
   },
   "source": [
    "### GradientBoostingClassifier"
   ]
  },
  {
   "cell_type": "code",
   "execution_count": 55,
   "id": "d5a1eac9",
   "metadata": {
    "execution": {
     "iopub.execute_input": "2023-03-31T09:40:11.323992Z",
     "iopub.status.busy": "2023-03-31T09:40:11.323225Z",
     "iopub.status.idle": "2023-03-31T09:40:12.012555Z",
     "shell.execute_reply": "2023-03-31T09:40:12.010824Z"
    },
    "papermill": {
     "duration": 0.723376,
     "end_time": "2023-03-31T09:40:12.015826",
     "exception": false,
     "start_time": "2023-03-31T09:40:11.292450",
     "status": "completed"
    },
    "tags": []
   },
   "outputs": [
    {
     "name": "stdout",
     "output_type": "stream",
     "text": [
      "\n",
      "\n",
      "Accuracy of GradientBoostingClassifier: 0.6631221719457013\n",
      "Precision of GradientBoostingClassifier: 0.6927899686520376\n",
      "f1 score of GradientBoostingClassifier: 0.5711391836580165\n",
      "\n",
      "\n",
      "Classification Report\n",
      "---------------------\n",
      "              precision    recall  f1-score   support\n",
      "\n",
      "           0       0.66      0.93      0.77      2685\n",
      "           1       0.69      0.25      0.37      1735\n",
      "\n",
      "    accuracy                           0.66      4420\n",
      "   macro avg       0.68      0.59      0.57      4420\n",
      "weighted avg       0.67      0.66      0.61      4420\n",
      "\n"
     ]
    }
   ],
   "source": [
    "gbc = GradientBoostingClassifier(n_estimators = 30, random_state = 0)\n",
    "gbc.fit(X_train, y_train)\n",
    "\n",
    "y_pred = gbc.predict(X_test)\n",
    "\n",
    "accuracy = accuracy_score(y_test, y_pred)\n",
    "precision = precision_score(y_test, y_pred)\n",
    "recall = recall_score(y_test, y_pred)\n",
    "f1 = f1_score(y_test, y_pred, average = 'macro')\n",
    "print('\\n')\n",
    "print(\"Accuracy of GradientBoostingClassifier:\", accuracy)\n",
    "print(\"Precision of GradientBoostingClassifier:\", precision)\n",
    "print('f1 score of GradientBoostingClassifier:', f1)\n",
    "model_score['Gradient boost classifier'] = f1.round(3)\n",
    "print('\\n')\n",
    "print('Classification Report')\n",
    "print('---------------------')\n",
    "print(classification_report(y_test, y_pred))"
   ]
  },
  {
   "cell_type": "markdown",
   "id": "a2b54e7a",
   "metadata": {
    "papermill": {
     "duration": 0.028573,
     "end_time": "2023-03-31T09:40:12.073926",
     "exception": false,
     "start_time": "2023-03-31T09:40:12.045353",
     "status": "completed"
    },
    "tags": []
   },
   "source": [
    "#### Hypertuning GradientBoostClassifier"
   ]
  },
  {
   "cell_type": "code",
   "execution_count": 56,
   "id": "34c906d7",
   "metadata": {
    "execution": {
     "iopub.execute_input": "2023-03-31T09:40:12.134265Z",
     "iopub.status.busy": "2023-03-31T09:40:12.133154Z",
     "iopub.status.idle": "2023-03-31T09:46:16.966460Z",
     "shell.execute_reply": "2023-03-31T09:46:16.965157Z"
    },
    "papermill": {
     "duration": 364.896001,
     "end_time": "2023-03-31T09:46:16.998855",
     "exception": false,
     "start_time": "2023-03-31T09:40:12.102854",
     "status": "completed"
    },
    "tags": []
   },
   "outputs": [
    {
     "data": {
      "text/plain": [
       "GridSearchCV(cv=ShuffleSplit(n_splits=10, random_state=0, test_size=0.2, train_size=None),\n",
       "             estimator=GradientBoostingClassifier(n_estimators=30,\n",
       "                                                  random_state=0),\n",
       "             param_grid={'learning_rate': [0.01, 0.1, 1],\n",
       "                         'max_depth': [1, 2, 3],\n",
       "                         'n_estimators': [30, 100, 200]})"
      ]
     },
     "execution_count": 56,
     "metadata": {},
     "output_type": "execute_result"
    }
   ],
   "source": [
    "param_grid = {'n_estimators': [30, 100, 200],\n",
    "              'learning_rate': [0.01, 0.1, 1],\n",
    "              'max_depth': [1, 2, 3]}\n",
    "\n",
    "grid_search_gbc = GridSearchCV(gbc,\n",
    "                              param_grid = param_grid,\n",
    "                              cv = cv)\n",
    "\n",
    "grid_search_gbc.fit(X_train, y_train)"
   ]
  },
  {
   "cell_type": "code",
   "execution_count": 57,
   "id": "862623f8",
   "metadata": {
    "execution": {
     "iopub.execute_input": "2023-03-31T09:46:17.059259Z",
     "iopub.status.busy": "2023-03-31T09:46:17.058881Z",
     "iopub.status.idle": "2023-03-31T09:46:17.065853Z",
     "shell.execute_reply": "2023-03-31T09:46:17.064719Z"
    },
    "papermill": {
     "duration": 0.040021,
     "end_time": "2023-03-31T09:46:17.068019",
     "exception": false,
     "start_time": "2023-03-31T09:46:17.027998",
     "status": "completed"
    },
    "tags": []
   },
   "outputs": [
    {
     "data": {
      "text/plain": [
       "GradientBoostingClassifier(learning_rate=0.01, n_estimators=200, random_state=0)"
      ]
     },
     "execution_count": 57,
     "metadata": {},
     "output_type": "execute_result"
    }
   ],
   "source": [
    "model_gbc = grid_search_gbc.best_estimator_\n",
    "model_gbc"
   ]
  },
  {
   "cell_type": "code",
   "execution_count": 58,
   "id": "12d10fa9",
   "metadata": {
    "execution": {
     "iopub.execute_input": "2023-03-31T09:46:17.130818Z",
     "iopub.status.busy": "2023-03-31T09:46:17.130415Z",
     "iopub.status.idle": "2023-03-31T09:46:21.486429Z",
     "shell.execute_reply": "2023-03-31T09:46:21.484517Z"
    },
    "papermill": {
     "duration": 4.391453,
     "end_time": "2023-03-31T09:46:21.489336",
     "exception": false,
     "start_time": "2023-03-31T09:46:17.097883",
     "status": "completed"
    },
    "tags": []
   },
   "outputs": [
    {
     "name": "stdout",
     "output_type": "stream",
     "text": [
      "\n",
      "\n",
      "Accuracy of GradientBoostingClassifier with hypertuning: 0.6635746606334841\n",
      "Precision of GradientBoostingClassifier with hypertuning: 0.7\n",
      "f1 score of GradientBoostingClassifier with hypertuning: 0.5696395569065965\n",
      "\n",
      "\n",
      "Classification Report\n",
      "---------------------\n",
      "              precision    recall  f1-score   support\n",
      "\n",
      "           0       0.66      0.93      0.77      2685\n",
      "           1       0.70      0.25      0.37      1735\n",
      "\n",
      "    accuracy                           0.66      4420\n",
      "   macro avg       0.68      0.59      0.57      4420\n",
      "weighted avg       0.67      0.66      0.61      4420\n",
      "\n"
     ]
    }
   ],
   "source": [
    "model_gbc.fit(X_train, y_train)\n",
    "y_pred = model_gbc.predict(X_test)\n",
    "\n",
    "accuracy = accuracy_score(y_test, y_pred)\n",
    "precision = precision_score(y_test, y_pred)\n",
    "recall = recall_score(y_test, y_pred)\n",
    "f1 = f1_score(y_test, y_pred, average = 'macro')\n",
    "print('\\n')\n",
    "print(\"Accuracy of GradientBoostingClassifier with hypertuning:\", accuracy)\n",
    "print(\"Precision of GradientBoostingClassifier with hypertuning:\", precision)\n",
    "print('f1 score of GradientBoostingClassifier with hypertuning:', f1)\n",
    "model_score['Hypertuned GradientBoostClassifier'] = f1.round(3)\n",
    "print('\\n')\n",
    "print('Classification Report')\n",
    "print('---------------------')\n",
    "print(classification_report(y_test, y_pred))"
   ]
  },
  {
   "cell_type": "markdown",
   "id": "7e3a0a9c",
   "metadata": {
    "papermill": {
     "duration": 0.029892,
     "end_time": "2023-03-31T09:46:21.549067",
     "exception": false,
     "start_time": "2023-03-31T09:46:21.519175",
     "status": "completed"
    },
    "tags": []
   },
   "source": [
    "### XGBClassifier"
   ]
  },
  {
   "cell_type": "code",
   "execution_count": 59,
   "id": "805b2c8b",
   "metadata": {
    "execution": {
     "iopub.execute_input": "2023-03-31T09:46:21.610611Z",
     "iopub.status.busy": "2023-03-31T09:46:21.609936Z",
     "iopub.status.idle": "2023-03-31T09:46:21.834875Z",
     "shell.execute_reply": "2023-03-31T09:46:21.833475Z"
    },
    "papermill": {
     "duration": 0.258859,
     "end_time": "2023-03-31T09:46:21.837954",
     "exception": false,
     "start_time": "2023-03-31T09:46:21.579095",
     "status": "completed"
    },
    "tags": []
   },
   "outputs": [
    {
     "name": "stdout",
     "output_type": "stream",
     "text": [
      "\n",
      "\n",
      "Accuracy of XGBClassifier: 0.6504524886877828\n",
      "Precision of XGBClassifier: 0.6507936507936508\n",
      "f1 score of XGBClassifier: 0.5540565028937122\n",
      "\n",
      "\n",
      "Classification Report\n",
      "---------------------\n",
      "              precision    recall  f1-score   support\n",
      "\n",
      "           0       0.65      0.92      0.76      2685\n",
      "           1       0.65      0.24      0.35      1735\n",
      "\n",
      "    accuracy                           0.65      4420\n",
      "   macro avg       0.65      0.58      0.55      4420\n",
      "weighted avg       0.65      0.65      0.60      4420\n",
      "\n"
     ]
    }
   ],
   "source": [
    "xgb = XGBClassifier(n_estimators = 10, random_state = 0)\n",
    "xgb.fit(X_train, y_train)\n",
    "\n",
    "y_pred = xgb.predict(X_test)\n",
    "\n",
    "accuracy = accuracy_score(y_test, y_pred)\n",
    "precision = precision_score(y_test, y_pred)\n",
    "recall = recall_score(y_test, y_pred)\n",
    "f1 = f1_score(y_test, y_pred, average = 'macro')\n",
    "print('\\n')\n",
    "print(\"Accuracy of XGBClassifier:\", accuracy)\n",
    "print(\"Precision of XGBClassifier:\", precision)\n",
    "print('f1 score of XGBClassifier:', f1)\n",
    "model_score['XGBclassifier'] = f1.round(3)\n",
    "print('\\n')\n",
    "print('Classification Report')\n",
    "print('---------------------')\n",
    "print(classification_report(y_test, y_pred))"
   ]
  },
  {
   "cell_type": "code",
   "execution_count": 60,
   "id": "c0e77582",
   "metadata": {
    "execution": {
     "iopub.execute_input": "2023-03-31T09:46:21.900150Z",
     "iopub.status.busy": "2023-03-31T09:46:21.899125Z",
     "iopub.status.idle": "2023-03-31T09:46:21.906929Z",
     "shell.execute_reply": "2023-03-31T09:46:21.905815Z"
    },
    "papermill": {
     "duration": 0.041508,
     "end_time": "2023-03-31T09:46:21.909234",
     "exception": false,
     "start_time": "2023-03-31T09:46:21.867726",
     "status": "completed"
    },
    "tags": []
   },
   "outputs": [
    {
     "data": {
      "text/plain": [
       "{'Baseline model(logistic regression)': 0.543,\n",
       " 'Hypertuned Baseline model': 0.542,\n",
       " 'KNN': 0.553,\n",
       " 'Hypertuned KNN': 0.556,\n",
       " 'SVM': 0.557,\n",
       " 'Hypertuned SVM': 0.558,\n",
       " 'Decision tree classifier': 0.583,\n",
       " 'Hypertuned Decision tree classifier': 0.583,\n",
       " 'BaggingClassifier': 0.582,\n",
       " 'Hypertuned BaggingClassifier': 0.584,\n",
       " 'AdaBoostClassifier': 0.557,\n",
       " 'Hypertuned AdaBoostClassifier': 0.571,\n",
       " 'Gradient boost classifier': 0.571,\n",
       " 'Hypertuned GradientBoostClassifier': 0.57,\n",
       " 'XGBclassifier': 0.554}"
      ]
     },
     "execution_count": 60,
     "metadata": {},
     "output_type": "execute_result"
    }
   ],
   "source": [
    "model_score"
   ]
  },
  {
   "cell_type": "markdown",
   "id": "67f1b754",
   "metadata": {
    "papermill": {
     "duration": 0.030259,
     "end_time": "2023-03-31T09:46:21.969560",
     "exception": false,
     "start_time": "2023-03-31T09:46:21.939301",
     "status": "completed"
    },
    "tags": []
   },
   "source": [
    "# MLP"
   ]
  },
  {
   "cell_type": "code",
   "execution_count": 61,
   "id": "f497b2cb",
   "metadata": {
    "execution": {
     "iopub.execute_input": "2023-03-31T09:46:22.113771Z",
     "iopub.status.busy": "2023-03-31T09:46:22.113314Z",
     "iopub.status.idle": "2023-03-31T09:46:24.297791Z",
     "shell.execute_reply": "2023-03-31T09:46:24.296517Z"
    },
    "papermill": {
     "duration": 2.222463,
     "end_time": "2023-03-31T09:46:24.302558",
     "exception": false,
     "start_time": "2023-03-31T09:46:22.080095",
     "status": "completed"
    },
    "tags": []
   },
   "outputs": [
    {
     "name": "stdout",
     "output_type": "stream",
     "text": [
      "\n",
      "\n",
      "Accuracy of MLPClassifier: 0.6638009049773755\n",
      "Precision of MLPClassifier: 0.6554307116104869\n",
      "f1 score of MLPClassifier: 0.5891572523178914\n",
      "\n",
      "\n",
      "Classification Report\n",
      "---------------------\n",
      "              precision    recall  f1-score   support\n",
      "\n",
      "           0       0.67      0.90      0.76      2685\n",
      "           1       0.66      0.30      0.41      1735\n",
      "\n",
      "    accuracy                           0.66      4420\n",
      "   macro avg       0.66      0.60      0.59      4420\n",
      "weighted avg       0.66      0.66      0.63      4420\n",
      "\n"
     ]
    }
   ],
   "source": [
    "mlpc = MLPClassifier(hidden_layer_sizes = (4,),\n",
    "                     activation = 'logistic',\n",
    "                     solver = 'lbfgs',\n",
    "                     alpha = 0.00001,\n",
    "                     learning_rate = 'adaptive',\n",
    "                     max_iter = 250,\n",
    "                     random_state = 0)\n",
    "mlpc.fit(X_train, y_train)\n",
    "\n",
    "y_pred = mlpc.predict(X_test)\n",
    "\n",
    "accuracy = accuracy_score(y_test, y_pred)\n",
    "precision = precision_score(y_test, y_pred)\n",
    "recall = recall_score(y_test, y_pred)\n",
    "f1 = f1_score(y_test, y_pred, average = 'macro')\n",
    "print('\\n')\n",
    "print(\"Accuracy of MLPClassifier:\", accuracy)\n",
    "print(\"Precision of MLPClassifier:\", precision)\n",
    "print('f1 score of MLPClassifier:', f1)\n",
    "model_score['MLPclassifier'] = f1.round(3)\n",
    "print('\\n')\n",
    "print('Classification Report')\n",
    "print('---------------------')\n",
    "print(classification_report(y_test, y_pred))"
   ]
  },
  {
   "cell_type": "code",
   "execution_count": 62,
   "id": "67663dec",
   "metadata": {
    "execution": {
     "iopub.execute_input": "2023-03-31T09:46:24.436661Z",
     "iopub.status.busy": "2023-03-31T09:46:24.436169Z",
     "iopub.status.idle": "2023-03-31T09:46:24.444236Z",
     "shell.execute_reply": "2023-03-31T09:46:24.443081Z"
    },
    "papermill": {
     "duration": 0.062256,
     "end_time": "2023-03-31T09:46:24.446436",
     "exception": false,
     "start_time": "2023-03-31T09:46:24.384180",
     "status": "completed"
    },
    "tags": []
   },
   "outputs": [
    {
     "data": {
      "text/plain": [
       "{'Baseline model(logistic regression)': 0.543,\n",
       " 'Hypertuned Baseline model': 0.542,\n",
       " 'KNN': 0.553,\n",
       " 'Hypertuned KNN': 0.556,\n",
       " 'SVM': 0.557,\n",
       " 'Hypertuned SVM': 0.558,\n",
       " 'Decision tree classifier': 0.583,\n",
       " 'Hypertuned Decision tree classifier': 0.583,\n",
       " 'BaggingClassifier': 0.582,\n",
       " 'Hypertuned BaggingClassifier': 0.584,\n",
       " 'AdaBoostClassifier': 0.557,\n",
       " 'Hypertuned AdaBoostClassifier': 0.571,\n",
       " 'Gradient boost classifier': 0.571,\n",
       " 'Hypertuned GradientBoostClassifier': 0.57,\n",
       " 'XGBclassifier': 0.554,\n",
       " 'MLPclassifier': 0.589}"
      ]
     },
     "execution_count": 62,
     "metadata": {},
     "output_type": "execute_result"
    }
   ],
   "source": [
    "model_score"
   ]
  },
  {
   "cell_type": "code",
   "execution_count": 63,
   "id": "c8b81945",
   "metadata": {
    "execution": {
     "iopub.execute_input": "2023-03-31T09:46:24.511074Z",
     "iopub.status.busy": "2023-03-31T09:46:24.510284Z",
     "iopub.status.idle": "2023-03-31T09:46:24.515309Z",
     "shell.execute_reply": "2023-03-31T09:46:24.514276Z"
    },
    "papermill": {
     "duration": 0.039927,
     "end_time": "2023-03-31T09:46:24.517597",
     "exception": false,
     "start_time": "2023-03-31T09:46:24.477670",
     "status": "completed"
    },
    "tags": []
   },
   "outputs": [],
   "source": [
    "from sklearn.ensemble import VotingClassifier"
   ]
  },
  {
   "cell_type": "code",
   "execution_count": 64,
   "id": "1cd27554",
   "metadata": {
    "execution": {
     "iopub.execute_input": "2023-03-31T09:46:24.580540Z",
     "iopub.status.busy": "2023-03-31T09:46:24.580018Z",
     "iopub.status.idle": "2023-03-31T09:46:24.587601Z",
     "shell.execute_reply": "2023-03-31T09:46:24.585236Z"
    },
    "papermill": {
     "duration": 0.042027,
     "end_time": "2023-03-31T09:46:24.589802",
     "exception": false,
     "start_time": "2023-03-31T09:46:24.547775",
     "status": "completed"
    },
    "tags": []
   },
   "outputs": [],
   "source": [
    "voting_clf = VotingClassifier(estimators=[('model1', model_dtc), ('model2', model_bc), ('model3', mlpc)], voting='hard')"
   ]
  },
  {
   "cell_type": "code",
   "execution_count": 65,
   "id": "2100aa2d",
   "metadata": {
    "execution": {
     "iopub.execute_input": "2023-03-31T09:46:24.653022Z",
     "iopub.status.busy": "2023-03-31T09:46:24.652316Z",
     "iopub.status.idle": "2023-03-31T09:46:26.849100Z",
     "shell.execute_reply": "2023-03-31T09:46:26.847545Z"
    },
    "papermill": {
     "duration": 2.233553,
     "end_time": "2023-03-31T09:46:26.853520",
     "exception": false,
     "start_time": "2023-03-31T09:46:24.619967",
     "status": "completed"
    },
    "tags": []
   },
   "outputs": [
    {
     "data": {
      "text/plain": [
       "VotingClassifier(estimators=[('model1',\n",
       "                              DecisionTreeClassifier(max_depth=2,\n",
       "                                                     random_state=0)),\n",
       "                             ('model2',\n",
       "                              BaggingClassifier(base_estimator=DecisionTreeClassifier(max_depth=2,\n",
       "                                                                                      random_state=0),\n",
       "                                                max_features=0.7,\n",
       "                                                max_samples=0.7,\n",
       "                                                n_estimators=32,\n",
       "                                                random_state=0)),\n",
       "                             ('model3',\n",
       "                              MLPClassifier(activation='logistic', alpha=1e-05,\n",
       "                                            hidden_layer_sizes=(4,),\n",
       "                                            learning_rate='adaptive',\n",
       "                                            max_iter=250, random_state=0,\n",
       "                                            solver='lbfgs'))])"
      ]
     },
     "execution_count": 65,
     "metadata": {},
     "output_type": "execute_result"
    }
   ],
   "source": [
    "voting_clf.fit(X_train, y_train)"
   ]
  },
  {
   "cell_type": "code",
   "execution_count": 66,
   "id": "b06013fe",
   "metadata": {
    "execution": {
     "iopub.execute_input": "2023-03-31T09:46:26.968742Z",
     "iopub.status.busy": "2023-03-31T09:46:26.968346Z",
     "iopub.status.idle": "2023-03-31T09:46:26.973338Z",
     "shell.execute_reply": "2023-03-31T09:46:26.972211Z"
    },
    "papermill": {
     "duration": 0.042277,
     "end_time": "2023-03-31T09:46:26.975503",
     "exception": false,
     "start_time": "2023-03-31T09:46:26.933226",
     "status": "completed"
    },
    "tags": []
   },
   "outputs": [],
   "source": [
    "from sklearn.metrics import ConfusionMatrixDisplay"
   ]
  },
  {
   "cell_type": "code",
   "execution_count": 67,
   "id": "fda88060",
   "metadata": {
    "execution": {
     "iopub.execute_input": "2023-03-31T09:46:27.038777Z",
     "iopub.status.busy": "2023-03-31T09:46:27.038343Z",
     "iopub.status.idle": "2023-03-31T09:46:27.462030Z",
     "shell.execute_reply": "2023-03-31T09:46:27.460683Z"
    },
    "papermill": {
     "duration": 0.458885,
     "end_time": "2023-03-31T09:46:27.464869",
     "exception": false,
     "start_time": "2023-03-31T09:46:27.005984",
     "status": "completed"
    },
    "tags": []
   },
   "outputs": [
    {
     "name": "stdout",
     "output_type": "stream",
     "text": [
      "\n",
      "\n",
      "Accuracy of VotingClassifier: 0.6638009049773755\n",
      "Precision of VotingClassifier: 0.6623207301173403\n",
      "f1 score of VotingClassifier: 0.5858081600355562\n",
      "\n",
      "\n",
      "Classification Report\n",
      "---------------------\n",
      "              precision    recall  f1-score   support\n",
      "\n",
      "           0       0.66      0.90      0.77      2685\n",
      "           1       0.66      0.29      0.41      1735\n",
      "\n",
      "    accuracy                           0.66      4420\n",
      "   macro avg       0.66      0.60      0.59      4420\n",
      "weighted avg       0.66      0.66      0.62      4420\n",
      "\n"
     ]
    },
    {
     "data": {
      "text/plain": [
       "<sklearn.metrics._plot.confusion_matrix.ConfusionMatrixDisplay at 0x7f17e85cbe10>"
      ]
     },
     "execution_count": 67,
     "metadata": {},
     "output_type": "execute_result"
    },
    {
     "data": {
      "image/png": "[encoded data removed]",
      "text/plain": [
       "<Figure size 432x288 with 2 Axes>"
      ]
     },
     "metadata": {
      "needs_background": "light"
     },
     "output_type": "display_data"
    }
   ],
   "source": [
    "y_pred = voting_clf.predict(X_test)\n",
    "\n",
    "accuracy = accuracy_score(y_test, y_pred)\n",
    "precision = precision_score(y_test, y_pred)\n",
    "recall = recall_score(y_test, y_pred)\n",
    "f1 = f1_score(y_test, y_pred, average = 'macro')\n",
    "print('\\n')\n",
    "print(\"Accuracy of VotingClassifier:\", accuracy)\n",
    "print(\"Precision of VotingClassifier:\", precision)\n",
    "print('f1 score of VotingClassifier:', f1)\n",
    "model_score['Votingclassifier'] = f1.round(3)\n",
    "print('\\n')\n",
    "print('Classification Report')\n",
    "print('---------------------')\n",
    "print(classification_report(y_test, y_pred))\n",
    "ConfusionMatrixDisplay.from_predictions(y_test, y_pred)"
   ]
  },
  {
   "cell_type": "markdown",
   "id": "61599082",
   "metadata": {
    "papermill": {
     "duration": 0.030531,
     "end_time": "2023-03-31T09:46:27.527618",
     "exception": false,
     "start_time": "2023-03-31T09:46:27.497087",
     "status": "completed"
    },
    "tags": []
   },
   "source": [
    "# Predictions"
   ]
  },
  {
   "cell_type": "code",
   "execution_count": 68,
   "id": "58df18e9",
   "metadata": {
    "execution": {
     "iopub.execute_input": "2023-03-31T09:46:27.592243Z",
     "iopub.status.busy": "2023-03-31T09:46:27.590920Z",
     "iopub.status.idle": "2023-03-31T09:46:27.643593Z",
     "shell.execute_reply": "2023-03-31T09:46:27.641609Z"
    },
    "papermill": {
     "duration": 0.088107,
     "end_time": "2023-03-31T09:46:27.646437",
     "exception": false,
     "start_time": "2023-03-31T09:46:27.558330",
     "status": "completed"
    },
    "tags": []
   },
   "outputs": [
    {
     "name": "stdout",
     "output_type": "stream",
     "text": [
      "<class 'pandas.core.frame.DataFrame'>\n",
      "RangeIndex: 6599 entries, 0 to 6598\n",
      "Data columns (total 21 columns):\n",
      " #   Column                           Non-Null Count  Dtype  \n",
      "---  ------                           --------------  -----  \n",
      " 0   HomePage                         6548 non-null   float64\n",
      " 1   HomePage_Duration                6544 non-null   float64\n",
      " 2   LandingPage                      6543 non-null   float64\n",
      " 3   LandingPage_Duration             6524 non-null   float64\n",
      " 4   ProductDescriptionPage           6541 non-null   float64\n",
      " 5   ProductDescriptionPage_Duration  6536 non-null   float64\n",
      " 6   GoogleMetric:Bounce Rates        6533 non-null   float64\n",
      " 7   GoogleMetric:Exit Rates          6548 non-null   float64\n",
      " 8   GoogleMetric:Page Values         6554 non-null   float64\n",
      " 9   SeasonalPurchase                 6554 non-null   float64\n",
      " 10  Month_SeasonalPurchase           6541 non-null   object \n",
      " 11  OS                               6537 non-null   float64\n",
      " 12  SearchEngine                     6541 non-null   float64\n",
      " 13  Zone                             6552 non-null   float64\n",
      " 14  Type of Traffic                  6531 non-null   float64\n",
      " 15  CustomerType                     6511 non-null   object \n",
      " 16  Gender                           6535 non-null   object \n",
      " 17  Cookies Setting                  6537 non-null   object \n",
      " 18  Education                        6530 non-null   object \n",
      " 19  Marital Status                   6552 non-null   object \n",
      " 20  WeekendPurchase                  6541 non-null   float64\n",
      "dtypes: float64(15), object(6)\n",
      "memory usage: 1.1+ MB\n"
     ]
    }
   ],
   "source": [
    "test_data = pd.read_csv('/kaggle/input/e-commerce-shoppers-behaviour-understanding/test_data_v2.csv')\n",
    "test_data.info()"
   ]
  },
  {
   "cell_type": "code",
   "execution_count": 69,
   "id": "dfb7503c",
   "metadata": {
    "execution": {
     "iopub.execute_input": "2023-03-31T09:46:27.712827Z",
     "iopub.status.busy": "2023-03-31T09:46:27.712037Z",
     "iopub.status.idle": "2023-03-31T09:46:27.718976Z",
     "shell.execute_reply": "2023-03-31T09:46:27.717961Z"
    },
    "papermill": {
     "duration": 0.043021,
     "end_time": "2023-03-31T09:46:27.721307",
     "exception": false,
     "start_time": "2023-03-31T09:46:27.678286",
     "status": "completed"
    },
    "tags": []
   },
   "outputs": [],
   "source": [
    "test_data = test_data[new_columns]"
   ]
  },
  {
   "cell_type": "code",
   "execution_count": 70,
   "id": "c2275501",
   "metadata": {
    "execution": {
     "iopub.execute_input": "2023-03-31T09:46:27.786195Z",
     "iopub.status.busy": "2023-03-31T09:46:27.785017Z",
     "iopub.status.idle": "2023-03-31T09:46:27.801866Z",
     "shell.execute_reply": "2023-03-31T09:46:27.799904Z"
    },
    "papermill": {
     "duration": 0.051774,
     "end_time": "2023-03-31T09:46:27.804294",
     "exception": false,
     "start_time": "2023-03-31T09:46:27.752520",
     "status": "completed"
    },
    "tags": []
   },
   "outputs": [
    {
     "name": "stdout",
     "output_type": "stream",
     "text": [
      "<class 'pandas.core.frame.DataFrame'>\n",
      "RangeIndex: 6599 entries, 0 to 6598\n",
      "Data columns (total 21 columns):\n",
      " #   Column                           Non-Null Count  Dtype  \n",
      "---  ------                           --------------  -----  \n",
      " 0   HomePage                         6548 non-null   float64\n",
      " 1   HomePage_Duration                6544 non-null   float64\n",
      " 2   LandingPage                      6543 non-null   float64\n",
      " 3   LandingPage_Duration             6524 non-null   float64\n",
      " 4   ProductDescriptionPage           6541 non-null   float64\n",
      " 5   ProductDescriptionPage_Duration  6536 non-null   float64\n",
      " 6   GoogleMetric:Bounce Rates        6533 non-null   float64\n",
      " 7   GoogleMetric:Exit Rates          6548 non-null   float64\n",
      " 8   GoogleMetric:Page Values         6554 non-null   float64\n",
      " 9   SeasonalPurchase                 6554 non-null   float64\n",
      " 10  OS                               6537 non-null   float64\n",
      " 11  SearchEngine                     6541 non-null   float64\n",
      " 12  Zone                             6552 non-null   float64\n",
      " 13  Type of Traffic                  6531 non-null   float64\n",
      " 14  WeekendPurchase                  6541 non-null   float64\n",
      " 15  Month_SeasonalPurchase           6541 non-null   object \n",
      " 16  CustomerType                     6511 non-null   object \n",
      " 17  Gender                           6535 non-null   object \n",
      " 18  Cookies Setting                  6537 non-null   object \n",
      " 19  Education                        6530 non-null   object \n",
      " 20  Marital Status                   6552 non-null   object \n",
      "dtypes: float64(15), object(6)\n",
      "memory usage: 1.1+ MB\n"
     ]
    }
   ],
   "source": [
    "test_data.info()"
   ]
  },
  {
   "cell_type": "code",
   "execution_count": 71,
   "id": "a72a7467",
   "metadata": {
    "execution": {
     "iopub.execute_input": "2023-03-31T09:46:27.869554Z",
     "iopub.status.busy": "2023-03-31T09:46:27.869072Z",
     "iopub.status.idle": "2023-03-31T09:46:27.877287Z",
     "shell.execute_reply": "2023-03-31T09:46:27.876103Z"
    },
    "papermill": {
     "duration": 0.043207,
     "end_time": "2023-03-31T09:46:27.879454",
     "exception": false,
     "start_time": "2023-03-31T09:46:27.836247",
     "status": "completed"
    },
    "tags": []
   },
   "outputs": [],
   "source": [
    "test_data['Gender'] = test_data['Gender'].replace('Not Specified', np.nan)\n",
    "test_data['Education'] = test_data['Education'].replace('Not Specified', 'Others')"
   ]
  },
  {
   "cell_type": "code",
   "execution_count": 72,
   "id": "5d5df902",
   "metadata": {
    "execution": {
     "iopub.execute_input": "2023-03-31T09:46:27.944263Z",
     "iopub.status.busy": "2023-03-31T09:46:27.943841Z",
     "iopub.status.idle": "2023-03-31T09:46:27.957109Z",
     "shell.execute_reply": "2023-03-31T09:46:27.955882Z"
    },
    "papermill": {
     "duration": 0.048069,
     "end_time": "2023-03-31T09:46:27.959237",
     "exception": false,
     "start_time": "2023-03-31T09:46:27.911168",
     "status": "completed"
    },
    "tags": []
   },
   "outputs": [
    {
     "name": "stdout",
     "output_type": "stream",
     "text": [
      "['Feb' 'Mar' 'May' 'June' 'Oct' 'Nov' 'Sep' 'Aug' 'Jul' 'Dec' nan]\n",
      "11\n",
      "['Returning_Visitor' 'New_Visitor' 'Other' nan]\n",
      "4\n",
      "[nan 'Female' 'Male']\n",
      "3\n",
      "['Deny' 'ALL' 'Required' nan]\n",
      "4\n",
      "['Others' 'Graduate' 'Diploma' nan]\n",
      "4\n",
      "['Single' 'Married' 'Other' nan]\n",
      "4\n"
     ]
    }
   ],
   "source": [
    "for i in range(15,21):\n",
    "    print(test_data.iloc[:,i].unique())\n",
    "    print(len(test_data.iloc[:,i].unique()))"
   ]
  },
  {
   "cell_type": "code",
   "execution_count": 73,
   "id": "8cb5fd30",
   "metadata": {
    "execution": {
     "iopub.execute_input": "2023-03-31T09:46:28.026094Z",
     "iopub.status.busy": "2023-03-31T09:46:28.024918Z",
     "iopub.status.idle": "2023-03-31T09:46:28.555671Z",
     "shell.execute_reply": "2023-03-31T09:46:28.554221Z"
    },
    "papermill": {
     "duration": 0.568033,
     "end_time": "2023-03-31T09:46:28.558587",
     "exception": false,
     "start_time": "2023-03-31T09:46:27.990554",
     "status": "completed"
    },
    "tags": []
   },
   "outputs": [],
   "source": [
    "X_t = pd.DataFrame(full_pipeline.fit_transform(test_data))"
   ]
  },
  {
   "cell_type": "code",
   "execution_count": 74,
   "id": "a6ea6ad9",
   "metadata": {
    "execution": {
     "iopub.execute_input": "2023-03-31T09:46:28.623968Z",
     "iopub.status.busy": "2023-03-31T09:46:28.623518Z",
     "iopub.status.idle": "2023-03-31T09:46:28.630871Z",
     "shell.execute_reply": "2023-03-31T09:46:28.629779Z"
    },
    "papermill": {
     "duration": 0.042589,
     "end_time": "2023-03-31T09:46:28.633236",
     "exception": false,
     "start_time": "2023-03-31T09:46:28.590647",
     "status": "completed"
    },
    "tags": []
   },
   "outputs": [
    {
     "data": {
      "text/plain": [
       "{'Baseline model(logistic regression)': 0.543,\n",
       " 'Hypertuned Baseline model': 0.542,\n",
       " 'KNN': 0.553,\n",
       " 'Hypertuned KNN': 0.556,\n",
       " 'SVM': 0.557,\n",
       " 'Hypertuned SVM': 0.558,\n",
       " 'Decision tree classifier': 0.583,\n",
       " 'Hypertuned Decision tree classifier': 0.583,\n",
       " 'BaggingClassifier': 0.582,\n",
       " 'Hypertuned BaggingClassifier': 0.584,\n",
       " 'AdaBoostClassifier': 0.557,\n",
       " 'Hypertuned AdaBoostClassifier': 0.571,\n",
       " 'Gradient boost classifier': 0.571,\n",
       " 'Hypertuned GradientBoostClassifier': 0.57,\n",
       " 'XGBclassifier': 0.554,\n",
       " 'MLPclassifier': 0.589,\n",
       " 'Votingclassifier': 0.586}"
      ]
     },
     "execution_count": 74,
     "metadata": {},
     "output_type": "execute_result"
    }
   ],
   "source": [
    "model_score"
   ]
  },
  {
   "cell_type": "code",
   "execution_count": 75,
   "id": "febacd33",
   "metadata": {
    "execution": {
     "iopub.execute_input": "2023-03-31T09:46:28.697947Z",
     "iopub.status.busy": "2023-03-31T09:46:28.697523Z",
     "iopub.status.idle": "2023-03-31T09:46:28.863638Z",
     "shell.execute_reply": "2023-03-31T09:46:28.861988Z"
    },
    "papermill": {
     "duration": 0.203749,
     "end_time": "2023-03-31T09:46:28.868364",
     "exception": false,
     "start_time": "2023-03-31T09:46:28.664615",
     "status": "completed"
    },
    "tags": []
   },
   "outputs": [],
   "source": [
    "prediction = voting_clf.predict(X_t)"
   ]
  },
  {
   "cell_type": "code",
   "execution_count": 76,
   "id": "e9b95a2c",
   "metadata": {
    "execution": {
     "iopub.execute_input": "2023-03-31T09:46:28.936560Z",
     "iopub.status.busy": "2023-03-31T09:46:28.936107Z",
     "iopub.status.idle": "2023-03-31T09:46:28.942110Z",
     "shell.execute_reply": "2023-03-31T09:46:28.941017Z"
    },
    "papermill": {
     "duration": 0.040462,
     "end_time": "2023-03-31T09:46:28.944207",
     "exception": false,
     "start_time": "2023-03-31T09:46:28.903745",
     "status": "completed"
    },
    "tags": []
   },
   "outputs": [],
   "source": [
    "output = pd.DataFrame(prediction.astype(bool), columns = ['Made_Purchase'])\n",
    "output.index.name = 'id'"
   ]
  },
  {
   "cell_type": "code",
   "execution_count": 77,
   "id": "d3fcef46",
   "metadata": {
    "execution": {
     "iopub.execute_input": "2023-03-31T09:46:29.008341Z",
     "iopub.status.busy": "2023-03-31T09:46:29.007908Z",
     "iopub.status.idle": "2023-03-31T09:46:29.024098Z",
     "shell.execute_reply": "2023-03-31T09:46:29.022765Z"
    },
    "papermill": {
     "duration": 0.051642,
     "end_time": "2023-03-31T09:46:29.026873",
     "exception": false,
     "start_time": "2023-03-31T09:46:28.975231",
     "status": "completed"
    },
    "tags": []
   },
   "outputs": [],
   "source": [
    "output.to_csv('submission.csv')"
   ]
  },
  {
   "cell_type": "code",
   "execution_count": null,
   "id": "d665d262",
   "metadata": {
    "papermill": {
     "duration": 0.030758,
     "end_time": "2023-03-31T09:46:29.088683",
     "exception": false,
     "start_time": "2023-03-31T09:46:29.057925",
     "status": "completed"
    },
    "tags": []
   },
   "outputs": [],
   "source": []
  }
 ],
 "metadata": {
  "kernelspec": {
   "display_name": "Python 3",
   "language": "python",
   "name": "python3"
  },
  "language_info": {
   "codemirror_mode": {
    "name": "ipython",
    "version": 3
   },
   "file_extension": ".py",
   "mimetype": "text/x-python",
   "name": "python",
   "nbconvert_exporter": "python",
   "pygments_lexer": "ipython3",
   "version": "3.7.12"
  },
  "papermill": {
   "default_parameters": {},
   "duration": 1291.078324,
   "end_time": "2023-03-31T09:46:30.047752",
   "environment_variables": {},
   "exception": null,
   "input_path": "__notebook__.ipynb",
   "output_path": "__notebook__.ipynb",
   "parameters": {},
   "start_time": "2023-03-31T09:24:58.969428",
   "version": "2.3.4"
  }
 },
 "nbformat": 4,
 "nbformat_minor": 5
}
